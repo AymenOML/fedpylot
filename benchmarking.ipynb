{
 "cells": [
  {
   "cell_type": "markdown",
   "metadata": {
    "id": "hrmnNRO1CZE2"
   },
   "source": [
    "## License Information\n",
    "\n",
    "Copyright (C) 2024 Cyprien Quéméneur\n",
    "\n",
    "FedPylot is released under the GPL-3.0 license, please refer to the LICENSE file in the root directory of the program.\n",
    "\n",
    "For the full copyright notices, please refer to the NOTICE file in the root directory of the program."
   ],
   "id": "hrmnNRO1CZE2"
  },
  {
   "cell_type": "markdown",
   "metadata": {
    "id": "EIUi5fOlYMxA"
   },
   "source": [
    "## System Information"
   ],
   "id": "EIUi5fOlYMxA"
  },
  {
   "cell_type": "code",
   "execution_count": null,
   "metadata": {
    "colab": {
     "base_uri": "https://localhost:8080/"
    },
    "id": "36-qY6G5YFcJ",
    "outputId": "dac58a32-f0a4-4f65-dc19-814e45e55748"
   },
   "outputs": [
    {
     "name": "stdout",
     "output_type": "stream",
     "text": [
      "Python version: 3.10.12 (main, Nov 20 2023, 15:14:05) [GCC 11.4.0], sys.version_info(major=3, minor=10, micro=12, releaselevel='final', serial=0) \n",
      "Pytorch version: 2.1.0+cu121 \n",
      "GPU 0: Tesla V100-SXM2-16GB (UUID: GPU-588f1070-56f6-f716-5c1c-7848d405b0d8)\n"
     ]
    }
   ],
   "source": [
    "import sys\n",
    "import torch\n",
    "\n",
    "print(f\"Python version: {sys.version}, {sys.version_info} \")\n",
    "print(f\"Pytorch version: {torch.__version__} \")\n",
    "!nvidia-smi -L"
   ],
   "id": "36-qY6G5YFcJ"
  },
  {
   "cell_type": "markdown",
   "metadata": {
    "id": "bsbBLnP0Wa1m"
   },
   "source": [
    "## Preparation"
   ],
   "id": "bsbBLnP0Wa1m"
  },
  {
   "cell_type": "code",
   "execution_count": null,
   "metadata": {
    "colab": {
     "base_uri": "https://localhost:8080/"
    },
    "id": "initial_id",
    "outputId": "bff67905-cbe5-4725-97b0-56c51e968950"
   },
   "outputs": [
    {
     "name": "stdout",
     "output_type": "stream",
     "text": [
      "Mounted at /content/gdrive\n",
      "/content/FedPylot\n"
     ]
    }
   ],
   "source": [
    "# for now the code, fully trained weights, and data are imported from a drive\n",
    "from google.colab import drive\n",
    "\n",
    "drive.mount('/content/gdrive')\n",
    "!cp -r gdrive/MyDrive/FedPylot ./\n",
    "drive.flush_and_unmount()\n",
    "%cd FedPylot"
   ],
   "id": "initial_id"
  },
  {
   "cell_type": "markdown",
   "metadata": {
    "id": "7x9NRKQRC3mA"
   },
   "source": [
    "## Benchmarking"
   ],
   "id": "7x9NRKQRC3mA"
  },
  {
   "cell_type": "code",
   "execution_count": null,
   "metadata": {
    "id": "sKy8RN4aoQ6v"
   },
   "outputs": [],
   "source": [
    "import os\n",
    "from google.colab import output\n",
    "import pandas as pd"
   ],
   "id": "sKy8RN4aoQ6v"
  },
  {
   "cell_type": "code",
   "execution_count": null,
   "metadata": {
    "id": "rgQoj6WHoVUU"
   },
   "outputs": [],
   "source": [
    "def run(data, bsz, trials, weights, spath, img, conf, iou):\n",
    "    \"\"\"Evaluate YOLOv7(-X) several times and print the mean inference speed.\"\"\"\n",
    "    if not os.path.exists(saving_path):\n",
    "        os.makedirs(saving_path)\n",
    "    for trial in range(trials):\n",
    "        output.clear()  # only display the current trial\n",
    "        !python yolov7/test.py --data $data --batch $bsz --kround $trial --weights $weights --saving-path $spath --project $spath --img $img --conf $conf --iou $iou --device 0\n",
    "    results = pd.read_csv(os.path.join(saving_path, 'results.csv'))\n",
    "    print('\\n--------------------------------------------------------\\n')\n",
    "    if bsz == 1:\n",
    "        t = round(1000 / results['batch avg time (ms)'].mean())\n",
    "        print(f'Mean inference speed ({trials} trials, NMS excluded): {t} FPS')\n",
    "    else:\n",
    "        t = round(results['batch avg time (ms)'].mean(), 1)\n",
    "        print(f'Mean inference speed ({trials} trials, NMS excluded): {t} ms')"
   ],
   "id": "rgQoj6WHoVUU"
  },
  {
   "cell_type": "markdown",
   "metadata": {
    "id": "oF06-psyWhuN"
   },
   "source": [
    "### KITTI"
   ],
   "id": "oF06-psyWhuN"
  },
  {
   "cell_type": "code",
   "execution_count": null,
   "metadata": {
    "id": "mwQMltyqTKi8"
   },
   "outputs": [],
   "source": [
    "# untar KITTI validation set\n",
    "!tar -xf datasets/kitti/server.tar -C datasets/kitti"
   ],
   "id": "mwQMltyqTKi8"
  },
  {
   "cell_type": "code",
   "execution_count": null,
   "metadata": {
    "id": "uG_Km16AU0Rz"
   },
   "outputs": [],
   "source": [
    "# parameters\n",
    "data = 'data/kitti.yaml'       # *.data path\n",
    "bsz = 1                        # batch size\n",
    "trials = 20                    # number of inferences to run\n",
    "conf_thres = 0.001             # object confidence threshold\n",
    "iou_thres = 0.65               # IOU threshold for NMS"
   ],
   "id": "uG_Km16AU0Rz"
  },
  {
   "cell_type": "code",
   "execution_count": null,
   "metadata": {
    "colab": {
     "base_uri": "https://localhost:8080/"
    },
    "id": "FZs31ze3Uvx9",
    "outputId": "037d9c73-eae9-4fa9-9d43-91293f85e0b1"
   },
   "outputs": [
    {
     "name": "stdout",
     "output_type": "stream",
     "text": [
      "Namespace(saving_path='datasets/kitti/yolov7-bsz1', kround=19, weights=['weights/trained/kitti-yolov7-fedoptm.pt'], data='data/kitti.yaml', batch_size=1, img_size=640, conf_thres=0.001, iou_thres=0.65, task='val', device='0', single_cls=False, augment=False, verbose=False, save_txt=False, save_hybrid=False, save_conf=False, save_json=False, project='datasets/kitti/yolov7-bsz1', name='exp', exist_ok=False, no_trace=False, v5_metric=False)\n",
      "YOLOR 🚀 2024-2-27 torch 2.1.0+cu121 CUDA:0 (Tesla V100-SXM2-16GB, 16151.125MB)\n",
      "\n",
      "Fusing layers... \n",
      "RepConv.fuse_repvgg_block\n",
      "RepConv.fuse_repvgg_block\n",
      "RepConv.fuse_repvgg_block\n",
      "Model Summary: 306 layers, 36517621 parameters, 36517621 gradients\n",
      " Convert model to Traced-model... \n",
      "/usr/local/lib/python3.10/dist-packages/torch/nn/modules/module.py:844: UserWarning: The .grad attribute of a Tensor that is not a leaf Tensor is being accessed. Its .grad attribute won't be populated during autograd.backward(). If you indeed want the .grad field to be populated for a non-leaf Tensor, use .retain_grad() on the non-leaf Tensor. If you access the non-leaf Tensor by mistake, make sure you access the leaf Tensor instead. See github.com/pytorch/pytorch/pull/30531 for more informations. (Triggered internally at aten/src/ATen/core/TensorBody.h:489.)\n",
      "  if param.grad is not None:\n",
      " traced_script_module saved! \n",
      " model is traced! \n",
      "\n",
      "/usr/local/lib/python3.10/dist-packages/torch/functional.py:504: UserWarning: torch.meshgrid: in an upcoming release, it will be required to pass the indexing argument. (Triggered internally at ../aten/src/ATen/native/TensorShape.cpp:3526.)\n",
      "  return _VF.meshgrid(tensors, **kwargs)  # type: ignore[attr-defined]\n",
      "\u001B[34m\u001B[1mval: \u001B[0mScanning 'datasets/kitti/server/labels.cache' images and labels... 1871 found, 0 missing, 0 empty, 0 corrupted: 100% 1871/1871 [00:00<?, ?it/s]\n",
      "                               Class      Images      Labels           P           R      mAP@.5  mAP@.5:.95: 100% 1871/1871 [01:04<00:00, 29.11it/s]\n",
      "                                 all        1871       10210        0.94       0.868        0.91       0.676\n",
      "                                 Car        1871        7110        0.94        0.94       0.962       0.781\n",
      "                                 Van        1871         780        0.94       0.924       0.951       0.766\n",
      "                               Truck        1871         307       0.985       0.971       0.986       0.821\n",
      "                          Pedestrian        1871        1151       0.916       0.784       0.838       0.483\n",
      "                      Person_sitting        1871          53        0.92        0.66       0.787       0.534\n",
      "                             Cyclist        1871         428       0.938       0.848       0.899       0.623\n",
      "                                Tram        1871         148        0.95       0.919       0.925       0.694\n",
      "                                Misc        1871         233        0.93       0.901       0.935       0.705\n",
      "Speed: 7.3/1.4/8.7 ms inference/NMS/total per 640x640 image at batch-size 1\n",
      "Results saved to datasets/kitti/yolov7-bsz1/exp20\n",
      "\n",
      "--------------------------------------------------------\n",
      "\n",
      "Mean inference speed (20 trials, NMS excluded): 140 FPS\n"
     ]
    }
   ],
   "source": [
    "# YOLOv7\n",
    "weights = 'weights/trained/kitti-yolov7-fedoptm.pt'\n",
    "saving_path = 'datasets/kitti/yolov7-bsz1'\n",
    "img_size = 640\n",
    "\n",
    "run(data, bsz, trials, weights, saving_path, img_size, conf_thres, iou_thres)"
   ],
   "id": "FZs31ze3Uvx9"
  },
  {
   "cell_type": "code",
   "execution_count": null,
   "metadata": {
    "colab": {
     "base_uri": "https://localhost:8080/"
    },
    "id": "v54aGiUuw6ic",
    "outputId": "8f57180f-6cb6-4d69-bfaa-21c6d81f2373"
   },
   "outputs": [
    {
     "name": "stdout",
     "output_type": "stream",
     "text": [
      "Namespace(saving_path='datasets/kitti/yolov7x-bsz1', kround=19, weights=['weights/trained/kitti-yolov7x-fedoptm.pt'], data='data/kitti.yaml', batch_size=1, img_size=640, conf_thres=0.001, iou_thres=0.65, task='val', device='0', single_cls=False, augment=False, verbose=False, save_txt=False, save_hybrid=False, save_conf=False, save_json=False, project='datasets/kitti/yolov7x-bsz1', name='exp', exist_ok=False, no_trace=False, v5_metric=False)\n",
      "YOLOR 🚀 2024-2-27 torch 2.1.0+cu121 CUDA:0 (Tesla V100-SXM2-16GB, 16151.125MB)\n",
      "\n",
      "Fusing layers... \n",
      "Model Summary: 354 layers, 70827253 parameters, 70827253 gradients\n",
      " Convert model to Traced-model... \n",
      "/usr/local/lib/python3.10/dist-packages/torch/nn/modules/module.py:844: UserWarning: The .grad attribute of a Tensor that is not a leaf Tensor is being accessed. Its .grad attribute won't be populated during autograd.backward(). If you indeed want the .grad field to be populated for a non-leaf Tensor, use .retain_grad() on the non-leaf Tensor. If you access the non-leaf Tensor by mistake, make sure you access the leaf Tensor instead. See github.com/pytorch/pytorch/pull/30531 for more informations. (Triggered internally at aten/src/ATen/core/TensorBody.h:489.)\n",
      "  if param.grad is not None:\n",
      " traced_script_module saved! \n",
      " model is traced! \n",
      "\n",
      "/usr/local/lib/python3.10/dist-packages/torch/functional.py:504: UserWarning: torch.meshgrid: in an upcoming release, it will be required to pass the indexing argument. (Triggered internally at ../aten/src/ATen/native/TensorShape.cpp:3526.)\n",
      "  return _VF.meshgrid(tensors, **kwargs)  # type: ignore[attr-defined]\n",
      "\u001B[34m\u001B[1mval: \u001B[0mScanning 'datasets/kitti/server/labels.cache' images and labels... 1871 found, 0 missing, 0 empty, 0 corrupted: 100% 1871/1871 [00:00<?, ?it/s]\n",
      "                               Class      Images      Labels           P           R      mAP@.5  mAP@.5:.95: 100% 1871/1871 [01:06<00:00, 28.12it/s]\n",
      "                                 all        1871       10210        0.93       0.885       0.915       0.687\n",
      "                                 Car        1871        7110       0.934       0.953       0.964       0.792\n",
      "                                 Van        1871         780       0.943        0.94       0.962       0.784\n",
      "                               Truck        1871         307       0.968        0.98       0.989       0.825\n",
      "                          Pedestrian        1871        1151       0.919       0.818       0.863       0.507\n",
      "                      Person_sitting        1871          53        0.88       0.694       0.794       0.517\n",
      "                             Cyclist        1871         428       0.945       0.847        0.89       0.626\n",
      "                                Tram        1871         148       0.907       0.939       0.916       0.725\n",
      "                                Misc        1871         233       0.944        0.91       0.946       0.716\n",
      "Speed: 8.4/1.4/9.8 ms inference/NMS/total per 640x640 image at batch-size 1\n",
      "Results saved to datasets/kitti/yolov7x-bsz1/exp20\n",
      "\n",
      "--------------------------------------------------------\n",
      "\n",
      "Mean inference speed (20 trials, NMS excluded): 120 FPS\n"
     ]
    }
   ],
   "source": [
    "# YOLOv7-X\n",
    "weights = 'weights/trained/kitti-yolov7x-fedoptm.pt'\n",
    "saving_path = 'datasets/kitti/yolov7x-bsz1'\n",
    "img_size = 640\n",
    "\n",
    "run(data, bsz, trials, weights, saving_path, img_size, conf_thres, iou_thres)"
   ],
   "id": "v54aGiUuw6ic"
  },
  {
   "cell_type": "code",
   "execution_count": null,
   "metadata": {
    "colab": {
     "base_uri": "https://localhost:8080/"
    },
    "id": "I59sMcJKdZFV",
    "outputId": "9416f09a-cfe4-4f28-8f11-40a26ef81c0a"
   },
   "outputs": [
    {
     "name": "stdout",
     "output_type": "stream",
     "text": [
      "Namespace(saving_path='datasets/kitti/yolov7-w6-bsz1', kround=19, weights=['weights/trained/kitti-yolov7-w6-fedoptm.pt'], data='data/kitti.yaml', batch_size=1, img_size=1280, conf_thres=0.001, iou_thres=0.65, task='val', device='0', single_cls=False, augment=False, verbose=False, save_txt=False, save_hybrid=False, save_conf=False, save_json=False, project='datasets/kitti/yolov7-w6-bsz1', name='exp', exist_ok=False, no_trace=False, v5_metric=False)\n",
      "YOLOR 🚀 2024-2-27 torch 2.1.0+cu121 CUDA:0 (Tesla V100-SXM2-16GB, 16151.125MB)\n",
      "\n",
      "Fusing layers... \n",
      "Model Summary: 343 layers, 69840476 parameters, 69840476 gradients\n",
      " Convert model to Traced-model... \n",
      "/usr/local/lib/python3.10/dist-packages/torch/nn/modules/module.py:844: UserWarning: The .grad attribute of a Tensor that is not a leaf Tensor is being accessed. Its .grad attribute won't be populated during autograd.backward(). If you indeed want the .grad field to be populated for a non-leaf Tensor, use .retain_grad() on the non-leaf Tensor. If you access the non-leaf Tensor by mistake, make sure you access the leaf Tensor instead. See github.com/pytorch/pytorch/pull/30531 for more informations. (Triggered internally at aten/src/ATen/core/TensorBody.h:489.)\n",
      "  if param.grad is not None:\n",
      " traced_script_module saved! \n",
      " model is traced! \n",
      "\n",
      "/usr/local/lib/python3.10/dist-packages/torch/functional.py:504: UserWarning: torch.meshgrid: in an upcoming release, it will be required to pass the indexing argument. (Triggered internally at ../aten/src/ATen/native/TensorShape.cpp:3526.)\n",
      "  return _VF.meshgrid(tensors, **kwargs)  # type: ignore[attr-defined]\n",
      "\u001B[34m\u001B[1mval: \u001B[0mScanning 'datasets/kitti/server/labels.cache' images and labels... 1871 found, 0 missing, 0 empty, 0 corrupted: 100% 1871/1871 [00:00<?, ?it/s]\n",
      "                               Class      Images      Labels           P           R      mAP@.5  mAP@.5:.95: 100% 1871/1871 [01:02<00:00, 30.13it/s]\n",
      "                                 all        1871       10210       0.931       0.908       0.924       0.718\n",
      "                                 Car        1871        7110       0.941       0.951       0.958       0.817\n",
      "                                 Van        1871         780        0.94       0.938        0.96       0.813\n",
      "                               Truck        1871         307       0.967       0.977       0.974       0.852\n",
      "                          Pedestrian        1871        1151       0.902       0.832       0.853       0.512\n",
      "                      Person_sitting        1871          53       0.933       0.792       0.857         0.6\n",
      "                             Cyclist        1871         428       0.921       0.888       0.911       0.654\n",
      "                                Tram        1871         148       0.932       0.959        0.95       0.757\n",
      "                                Misc        1871         233       0.913       0.927       0.931       0.738\n",
      "Speed: 9.0/1.5/10.6 ms inference/NMS/total per 1280x1280 image at batch-size 1\n",
      "Results saved to datasets/kitti/yolov7-w6-bsz1/exp20\n",
      "\n",
      "--------------------------------------------------------\n",
      "\n",
      "Mean inference speed (20 trials, NMS excluded): 110 FPS\n"
     ]
    }
   ],
   "source": [
    "# YOLOv7-W6\n",
    "weights = 'weights/trained/kitti-yolov7-w6-fedoptm.pt'\n",
    "saving_path = 'datasets/kitti/yolov7-w6-bsz1'\n",
    "img_size = 1280\n",
    "\n",
    "run(data, bsz, trials, weights, saving_path, img_size, conf_thres, iou_thres)"
   ],
   "id": "I59sMcJKdZFV"
  },
  {
   "cell_type": "markdown",
   "metadata": {
    "id": "yE2UdEUAWkKt"
   },
   "source": [
    "### nuImages-10"
   ],
   "id": "yE2UdEUAWkKt"
  },
  {
   "cell_type": "code",
   "execution_count": null,
   "metadata": {
    "id": "mhjW935XWl_M"
   },
   "outputs": [],
   "source": [
    "# untar nuImages-10 validation set\n",
    "!tar -xf datasets/nuimages10/server.tar -C datasets/nuimages10"
   ],
   "id": "mhjW935XWl_M"
  },
  {
   "cell_type": "code",
   "execution_count": null,
   "metadata": {
    "id": "Qya7R8JHav6G"
   },
   "outputs": [],
   "source": [
    "# parameters\n",
    "data = 'data/nuimages10.yaml'  # *.data path\n",
    "bsz = 1                        # batch size\n",
    "trials = 5                     # number of inferences to run\n",
    "conf_thres = 0.001             # object confidence threshold\n",
    "iou_thres = 0.65               # IOU threshold for NMS"
   ],
   "id": "Qya7R8JHav6G"
  },
  {
   "cell_type": "code",
   "execution_count": null,
   "metadata": {
    "colab": {
     "base_uri": "https://localhost:8080/"
    },
    "id": "tJilPLpwRM2G",
    "outputId": "6d247c4b-e9bf-4820-bef7-cc433bcedd3d"
   },
   "outputs": [
    {
     "name": "stdout",
     "output_type": "stream",
     "text": [
      "Namespace(saving_path='datasets/nuimages10/yolov7-bsz1', kround=4, weights=['weights/trained/nuimages10-yolov7-fedoptm.pt'], data='data/nuimages10.yaml', batch_size=1, img_size=640, conf_thres=0.001, iou_thres=0.65, task='val', device='0', single_cls=False, augment=False, verbose=False, save_txt=False, save_hybrid=False, save_conf=False, save_json=False, project='datasets/nuimages10/yolov7-bsz1', name='exp', exist_ok=False, no_trace=False, v5_metric=False)\n",
      "YOLOR 🚀 2024-2-27 torch 2.1.0+cu121 CUDA:0 (Tesla V100-SXM2-16GB, 16151.125MB)\n",
      "\n",
      "Fusing layers... \n",
      "RepConv.fuse_repvgg_block\n",
      "RepConv.fuse_repvgg_block\n",
      "RepConv.fuse_repvgg_block\n",
      "Model Summary: 306 layers, 36528391 parameters, 36528391 gradients\n",
      " Convert model to Traced-model... \n",
      "/usr/local/lib/python3.10/dist-packages/torch/nn/modules/module.py:844: UserWarning: The .grad attribute of a Tensor that is not a leaf Tensor is being accessed. Its .grad attribute won't be populated during autograd.backward(). If you indeed want the .grad field to be populated for a non-leaf Tensor, use .retain_grad() on the non-leaf Tensor. If you access the non-leaf Tensor by mistake, make sure you access the leaf Tensor instead. See github.com/pytorch/pytorch/pull/30531 for more informations. (Triggered internally at aten/src/ATen/core/TensorBody.h:489.)\n",
      "  if param.grad is not None:\n",
      " traced_script_module saved! \n",
      " model is traced! \n",
      "\n",
      "/usr/local/lib/python3.10/dist-packages/torch/functional.py:504: UserWarning: torch.meshgrid: in an upcoming release, it will be required to pass the indexing argument. (Triggered internally at ../aten/src/ATen/native/TensorShape.cpp:3526.)\n",
      "  return _VF.meshgrid(tensors, **kwargs)  # type: ignore[attr-defined]\n",
      "\u001B[34m\u001B[1mval: \u001B[0mScanning 'datasets/nuimages10/server/labels.cache' images and labels... 16445 found, 0 missing, 1661 empty, 0 corrupted: 100% 16445/16445 [00:00<?, ?it/s]\n",
      "                               Class      Images      Labels           P           R      mAP@.5  mAP@.5:.95: 100% 16445/16445 [12:28<00:00, 21.97it/s]\n",
      "                                 all       16445      133465       0.817       0.652       0.725       0.476\n",
      "                          pedestrian       16445       32185       0.867       0.677       0.771       0.446\n",
      "                             barrier       16445       18433       0.836       0.678       0.764       0.488\n",
      "                        traffic_cone       16445       18587       0.875       0.761       0.835       0.478\n",
      "                             bicycle       16445        3352       0.788       0.713       0.763        0.53\n",
      "                                 bus       16445        1885       0.835       0.616       0.715       0.543\n",
      "                                 car       16445       47279       0.867       0.815       0.881       0.637\n",
      "                construction_vehicle       16445        1303       0.776       0.599       0.648       0.344\n",
      "                          motorcycle       16445        3097       0.828       0.815       0.859       0.587\n",
      "                             trailer       16445         486       0.712       0.212       0.309       0.198\n",
      "                               truck       16445        6858       0.782        0.63       0.705       0.513\n",
      "Speed: 7.4/1.2/8.7 ms inference/NMS/total per 640x640 image at batch-size 1\n",
      "Results saved to datasets/nuimages10/yolov7-bsz1/exp5\n",
      "\n",
      "--------------------------------------------------------\n",
      "\n",
      "Mean inference speed (5 trials, NMS excluded): 137 FPS\n"
     ]
    }
   ],
   "source": [
    "# YOLOv7\n",
    "weights = 'weights/trained/nuimages10-yolov7-fedoptm.pt'\n",
    "saving_path = 'datasets/nuimages10/yolov7-bsz1'\n",
    "img_size = 640\n",
    "\n",
    "run(data, bsz, trials, weights, saving_path, img_size, conf_thres, iou_thres)"
   ],
   "id": "tJilPLpwRM2G"
  },
  {
   "cell_type": "code",
   "execution_count": null,
   "metadata": {
    "colab": {
     "base_uri": "https://localhost:8080/"
    },
    "id": "MyKQJKwrRNyE",
    "outputId": "0e4a28eb-baa9-4f0f-eadd-714a7e3261b4"
   },
   "outputs": [
    {
     "name": "stdout",
     "output_type": "stream",
     "text": [
      "Namespace(saving_path='datasets/nuimages10/yolov7x-bsz1', kround=4, weights=['weights/trained/nuimages10-yolov7x-fedoptm.pt'], data='data/nuimages10.yaml', batch_size=1, img_size=640, conf_thres=0.001, iou_thres=0.65, task='val', device='0', single_cls=False, augment=False, verbose=False, save_txt=False, save_hybrid=False, save_conf=False, save_json=False, project='datasets/nuimages10/yolov7x-bsz1', name='exp', exist_ok=False, no_trace=False, v5_metric=False)\n",
      "YOLOR 🚀 2024-2-27 torch 2.1.0+cu121 CUDA:0 (Tesla V100-SXM2-16GB, 16151.125MB)\n",
      "\n",
      "Fusing layers... \n",
      "Model Summary: 354 layers, 70840711 parameters, 70840711 gradients\n",
      " Convert model to Traced-model... \n",
      "/usr/local/lib/python3.10/dist-packages/torch/nn/modules/module.py:844: UserWarning: The .grad attribute of a Tensor that is not a leaf Tensor is being accessed. Its .grad attribute won't be populated during autograd.backward(). If you indeed want the .grad field to be populated for a non-leaf Tensor, use .retain_grad() on the non-leaf Tensor. If you access the non-leaf Tensor by mistake, make sure you access the leaf Tensor instead. See github.com/pytorch/pytorch/pull/30531 for more informations. (Triggered internally at aten/src/ATen/core/TensorBody.h:489.)\n",
      "  if param.grad is not None:\n",
      " traced_script_module saved! \n",
      " model is traced! \n",
      "\n",
      "/usr/local/lib/python3.10/dist-packages/torch/functional.py:504: UserWarning: torch.meshgrid: in an upcoming release, it will be required to pass the indexing argument. (Triggered internally at ../aten/src/ATen/native/TensorShape.cpp:3526.)\n",
      "  return _VF.meshgrid(tensors, **kwargs)  # type: ignore[attr-defined]\n",
      "\u001B[34m\u001B[1mval: \u001B[0mScanning 'datasets/nuimages10/server/labels.cache' images and labels... 16445 found, 0 missing, 1661 empty, 0 corrupted: 100% 16445/16445 [00:00<?, ?it/s]\n",
      "                               Class      Images      Labels           P           R      mAP@.5  mAP@.5:.95: 100% 16445/16445 [12:38<00:00, 21.67it/s]\n",
      "                                 all       16445      133465       0.817       0.673       0.743       0.494\n",
      "                          pedestrian       16445       32185       0.874       0.693       0.783       0.461\n",
      "                             barrier       16445       18433       0.841       0.704       0.783       0.504\n",
      "                        traffic_cone       16445       18587       0.881       0.773       0.844       0.489\n",
      "                             bicycle       16445        3352       0.777       0.734       0.774        0.54\n",
      "                                 bus       16445        1885        0.82        0.64       0.727       0.558\n",
      "                                 car       16445       47279       0.874       0.824       0.892        0.65\n",
      "                construction_vehicle       16445        1303       0.771       0.635       0.668       0.367\n",
      "                          motorcycle       16445        3097       0.839       0.826        0.87       0.603\n",
      "                             trailer       16445         486       0.688       0.263       0.367       0.238\n",
      "                               truck       16445        6858       0.801       0.638       0.726        0.53\n",
      "Speed: 8.6/1.2/9.8 ms inference/NMS/total per 640x640 image at batch-size 1\n",
      "Results saved to datasets/nuimages10/yolov7x-bsz1/exp5\n",
      "\n",
      "--------------------------------------------------------\n",
      "\n",
      "Mean inference speed (5 trials, NMS excluded): 116 FPS\n"
     ]
    }
   ],
   "source": [
    "# YOLOv7-X\n",
    "weights = 'weights/trained/nuimages10-yolov7x-fedoptm.pt'\n",
    "saving_path = 'datasets/nuimages10/yolov7x-bsz1'\n",
    "img_size = 640\n",
    "\n",
    "run(data, bsz, trials, weights, saving_path, img_size, conf_thres, iou_thres)"
   ],
   "id": "MyKQJKwrRNyE"
  },
  {
   "cell_type": "code",
   "execution_count": null,
   "metadata": {
    "colab": {
     "background_save": true,
     "base_uri": "https://localhost:8080/"
    },
    "id": "-ctSXxTVeD7a",
    "outputId": "7539a32c-762d-4eb1-8dbd-36e98d8ad3b3"
   },
   "outputs": [
    {
     "name": "stdout",
     "output_type": "stream",
     "text": [
      "Namespace(saving_path='datasets/nuimages10/yolov7-w6-bsz1', kround=4, weights=['weights/trained/nuimages10-yolov7-w6-fedoptm.pt'], data='data/nuimages10.yaml', batch_size=1, img_size=1280, conf_thres=0.001, iou_thres=0.65, task='val', device='0', single_cls=False, augment=False, verbose=False, save_txt=False, save_hybrid=False, save_conf=False, save_json=False, project='datasets/nuimages10/yolov7-w6-bsz1', name='exp', exist_ok=False, no_trace=False, v5_metric=False)\n",
      "YOLOR 🚀 2024-2-27 torch 2.1.0+cu121 CUDA:0 (Tesla V100-SXM2-16GB, 16151.125MB)\n",
      "\n",
      "Fusing layers... \n",
      "Model Summary: 343 layers, 69855860 parameters, 69855860 gradients\n",
      " Convert model to Traced-model... \n",
      "/usr/local/lib/python3.10/dist-packages/torch/nn/modules/module.py:844: UserWarning: The .grad attribute of a Tensor that is not a leaf Tensor is being accessed. Its .grad attribute won't be populated during autograd.backward(). If you indeed want the .grad field to be populated for a non-leaf Tensor, use .retain_grad() on the non-leaf Tensor. If you access the non-leaf Tensor by mistake, make sure you access the leaf Tensor instead. See github.com/pytorch/pytorch/pull/30531 for more informations. (Triggered internally at aten/src/ATen/core/TensorBody.h:489.)\n",
      "  if param.grad is not None:\n",
      " traced_script_module saved! \n",
      " model is traced! \n",
      "\n",
      "/usr/local/lib/python3.10/dist-packages/torch/functional.py:504: UserWarning: torch.meshgrid: in an upcoming release, it will be required to pass the indexing argument. (Triggered internally at ../aten/src/ATen/native/TensorShape.cpp:3526.)\n",
      "  return _VF.meshgrid(tensors, **kwargs)  # type: ignore[attr-defined]\n",
      "\u001B[34m\u001B[1mval: \u001B[0mScanning 'datasets/nuimages10/server/labels.cache' images and labels... 16445 found, 0 missing, 1661 empty, 0 corrupted: 100% 16445/16445 [00:00<?, ?it/s]\n",
      "                               Class      Images      Labels           P           R      mAP@.5  mAP@.5:.95: 100% 16445/16445 [18:03<00:00, 15.17it/s]\n",
      "                                 all       16445      133465       0.815       0.706       0.773       0.531\n",
      "                          pedestrian       16445       32185       0.877       0.761       0.843       0.526\n",
      "                             barrier       16445       18433       0.832       0.745       0.811       0.537\n",
      "                        traffic_cone       16445       18587        0.88       0.812       0.881       0.537\n",
      "                             bicycle       16445        3352       0.778       0.775       0.808       0.596\n",
      "                                 bus       16445        1885       0.795       0.692       0.766       0.606\n",
      "                                 car       16445       47279       0.875       0.857       0.916        0.69\n",
      "                construction_vehicle       16445        1303       0.761       0.627       0.675        0.38\n",
      "                          motorcycle       16445        3097       0.865       0.843       0.893        0.64\n",
      "                             trailer       16445         486       0.701        0.26       0.376       0.226\n",
      "                               truck       16445        6858       0.789       0.691       0.761       0.574\n",
      "Speed: 10.9/1.3/12.3 ms inference/NMS/total per 1280x1280 image at batch-size 1\n",
      "Results saved to datasets/nuimages10/yolov7-w6-bsz1/exp5\n",
      "\n",
      "--------------------------------------------------------\n",
      "\n",
      "Mean inference speed (5 trials, NMS excluded): 91 FPS\n"
     ]
    }
   ],
   "source": [
    "# YOLOv7-W6\n",
    "weights = 'weights/trained/nuimages10-yolov7-w6-fedoptm.pt'\n",
    "saving_path = 'datasets/nuimages10/yolov7-w6-bsz1'\n",
    "img_size = 1280\n",
    "\n",
    "run(data, bsz, trials, weights, saving_path, img_size, conf_thres, iou_thres)"
   ],
   "id": "-ctSXxTVeD7a"
  },
  {
   "cell_type": "markdown",
   "metadata": {
    "id": "RwUTTVCXbVz9"
   },
   "source": [
    "### nuImages-23"
   ],
   "id": "RwUTTVCXbVz9"
  },
  {
   "cell_type": "code",
   "execution_count": null,
   "metadata": {
    "colab": {
     "background_save": true
    },
    "id": "QfFUI506Wneg"
   },
   "outputs": [],
   "source": [
    "# untar nuImages-23 validation set\n",
    "!tar -xf datasets/nuimages23/server.tar -C datasets/nuimages23"
   ],
   "id": "QfFUI506Wneg"
  },
  {
   "cell_type": "code",
   "execution_count": null,
   "metadata": {
    "colab": {
     "background_save": true
    },
    "id": "BNDqU9gta8Mx"
   },
   "outputs": [],
   "source": [
    "# parameters\n",
    "data = 'data/nuimages23.yaml'  # *.data path\n",
    "bsz = 1                        # batch size\n",
    "trials = 5                     # number of inferences to run\n",
    "conf_thres = 0.001             # object confidence threshold\n",
    "iou_thres = 0.65               # IOU threshold for NMS"
   ],
   "id": "BNDqU9gta8Mx"
  },
  {
   "cell_type": "code",
   "execution_count": null,
   "metadata": {
    "colab": {
     "background_save": true
    },
    "id": "G26b_zDlXX4r",
    "outputId": "27afd2da-3df3-411c-c7b5-df0c2fad26d3"
   },
   "outputs": [
    {
     "name": "stdout",
     "output_type": "stream",
     "text": [
      "Namespace(saving_path='datasets/nuimages23/yolov7-bsz1', kround=4, weights=['weights/trained/nuimages23-yolov7-fedoptm.pt'], data='data/nuimages23.yaml', batch_size=1, img_size=640, conf_thres=0.001, iou_thres=0.65, task='val', device='0', single_cls=False, augment=False, verbose=False, save_txt=False, save_hybrid=False, save_conf=False, save_json=False, project='datasets/nuimages23/yolov7-bsz1', name='exp', exist_ok=False, no_trace=False, v5_metric=False)\n",
      "YOLOR 🚀 2024-2-27 torch 2.1.0+cu121 CUDA:0 (Tesla V100-SXM2-16GB, 16151.125MB)\n",
      "\n",
      "Fusing layers... \n",
      "RepConv.fuse_repvgg_block\n",
      "RepConv.fuse_repvgg_block\n",
      "RepConv.fuse_repvgg_block\n",
      "Model Summary: 306 layers, 36598396 parameters, 36598396 gradients\n",
      " Convert model to Traced-model... \n",
      "/usr/local/lib/python3.10/dist-packages/torch/nn/modules/module.py:844: UserWarning: The .grad attribute of a Tensor that is not a leaf Tensor is being accessed. Its .grad attribute won't be populated during autograd.backward(). If you indeed want the .grad field to be populated for a non-leaf Tensor, use .retain_grad() on the non-leaf Tensor. If you access the non-leaf Tensor by mistake, make sure you access the leaf Tensor instead. See github.com/pytorch/pytorch/pull/30531 for more informations. (Triggered internally at aten/src/ATen/core/TensorBody.h:489.)\n",
      "  if param.grad is not None:\n",
      " traced_script_module saved! \n",
      " model is traced! \n",
      "\n",
      "/usr/local/lib/python3.10/dist-packages/torch/functional.py:504: UserWarning: torch.meshgrid: in an upcoming release, it will be required to pass the indexing argument. (Triggered internally at ../aten/src/ATen/native/TensorShape.cpp:3526.)\n",
      "  return _VF.meshgrid(tensors, **kwargs)  # type: ignore[attr-defined]\n",
      "\u001B[34m\u001B[1mval: \u001B[0mScanning 'datasets/nuimages23/server/labels.cache' images and labels... 16445 found, 0 missing, 1561 empty, 0 corrupted: 100% 16445/16445 [00:00<?, ?it/s]\n",
      "                               Class      Images      Labels           P           R      mAP@.5  mAP@.5:.95: 100% 16445/16445 [12:26<00:00, 22.04it/s]\n",
      "                                 all       16445      136073       0.694       0.445       0.454       0.285\n",
      "                              animal       16445          82       0.498       0.183       0.152      0.0669\n",
      "              human.pedestrian.adult       16445       28721        0.77       0.719       0.761        0.44\n",
      "              human.pedestrian.child       16445         251       0.486       0.104       0.105      0.0545\n",
      "human.pedestrian.construction_worker       16445        3117       0.743       0.568        0.61       0.321\n",
      "  human.pedestrian.personal_mobility       16445         453       0.477       0.629       0.503       0.225\n",
      "     human.pedestrian.police_officer       16445          96       0.509       0.281       0.247       0.167\n",
      "           human.pedestrian.stroller       16445          70       0.728       0.268       0.358       0.243\n",
      "         human.pedestrian.wheelchair       16445           2           1           0           0           0\n",
      "              movable_object.barrier       16445       18433       0.765       0.726       0.764       0.488\n",
      "               movable_object.debris       16445         710       0.515       0.141       0.171      0.0968\n",
      "    movable_object.pushable_pullable       16445         645       0.557       0.482       0.428       0.266\n",
      "          movable_object.trafficcone       16445       18587       0.807       0.804       0.832       0.474\n",
      "          static_object.bicycle_rack       16445         603       0.572       0.657       0.574       0.338\n",
      "                     vehicle.bicycle       16445        3352       0.704       0.748        0.76       0.522\n",
      "                   vehicle.bus.bendy       16445          62       0.392      0.0484      0.0618      0.0419\n",
      "                   vehicle.bus.rigid       16445        1823       0.738       0.659       0.708       0.538\n",
      "                         vehicle.car       16445       47279        0.81       0.846       0.881       0.635\n",
      "                vehicle.construction       16445        1303       0.728       0.613       0.635       0.341\n",
      "         vehicle.emergency.ambulance       16445           8           1           0           0           0\n",
      "            vehicle.emergency.police       16445          35           1           0    0.000763    0.000706\n",
      "                  vehicle.motorcycle       16445        3097       0.766       0.837       0.857       0.584\n",
      "                     vehicle.trailer       16445         486        0.66       0.257       0.332       0.196\n",
      "                       vehicle.truck       16445        6858       0.724       0.665       0.707       0.512\n",
      "Speed: 7.4/1.3/8.7 ms inference/NMS/total per 640x640 image at batch-size 1\n",
      "Results saved to datasets/nuimages23/yolov7-bsz1/exp5\n",
      "\n",
      "--------------------------------------------------------\n",
      "\n",
      "Mean inference speed (5 trials, NMS excluded): 134 FPS\n"
     ]
    }
   ],
   "source": [
    "# YOLOv7\n",
    "weights = 'weights/trained/nuimages23-yolov7-fedoptm.pt'\n",
    "saving_path = 'datasets/nuimages23/yolov7-bsz1'\n",
    "img_size = 640\n",
    "\n",
    "run(data, bsz, trials, weights, saving_path, img_size, conf_thres, iou_thres)"
   ],
   "id": "G26b_zDlXX4r"
  },
  {
   "cell_type": "code",
   "execution_count": null,
   "metadata": {
    "colab": {
     "background_save": true
    },
    "id": "iiQ48vXGXcme",
    "outputId": "6caa3c3f-8b48-49a1-bd01-cdbe9169fa2a"
   },
   "outputs": [
    {
     "name": "stdout",
     "output_type": "stream",
     "text": [
      "Namespace(saving_path='datasets/nuimages23/yolov7x-bsz1', kround=4, weights=['weights/trained/nuimages23-yolov7x-fedoptm.pt'], data='data/nuimages23.yaml', batch_size=1, img_size=640, conf_thres=0.001, iou_thres=0.65, task='val', device='0', single_cls=False, augment=False, verbose=False, save_txt=False, save_hybrid=False, save_conf=False, save_json=False, project='datasets/nuimages23/yolov7x-bsz1', name='exp', exist_ok=False, no_trace=False, v5_metric=False)\n",
      "YOLOR 🚀 2024-2-27 torch 2.1.0+cu121 CUDA:0 (Tesla V100-SXM2-16GB, 16151.125MB)\n",
      "\n",
      "Fusing layers... \n",
      "Model Summary: 354 layers, 70928188 parameters, 70928188 gradients\n",
      " Convert model to Traced-model... \n",
      "/usr/local/lib/python3.10/dist-packages/torch/nn/modules/module.py:844: UserWarning: The .grad attribute of a Tensor that is not a leaf Tensor is being accessed. Its .grad attribute won't be populated during autograd.backward(). If you indeed want the .grad field to be populated for a non-leaf Tensor, use .retain_grad() on the non-leaf Tensor. If you access the non-leaf Tensor by mistake, make sure you access the leaf Tensor instead. See github.com/pytorch/pytorch/pull/30531 for more informations. (Triggered internally at aten/src/ATen/core/TensorBody.h:489.)\n",
      "  if param.grad is not None:\n",
      " traced_script_module saved! \n",
      " model is traced! \n",
      "\n",
      "/usr/local/lib/python3.10/dist-packages/torch/functional.py:504: UserWarning: torch.meshgrid: in an upcoming release, it will be required to pass the indexing argument. (Triggered internally at ../aten/src/ATen/native/TensorShape.cpp:3526.)\n",
      "  return _VF.meshgrid(tensors, **kwargs)  # type: ignore[attr-defined]\n",
      "\u001B[34m\u001B[1mval: \u001B[0mScanning 'datasets/nuimages23/server/labels.cache' images and labels... 16445 found, 0 missing, 1561 empty, 0 corrupted: 100% 16445/16445 [00:00<?, ?it/s]\n",
      "                               Class      Images      Labels           P           R      mAP@.5  mAP@.5:.95: 100% 16445/16445 [12:44<00:00, 21.50it/s]\n",
      "                                 all       16445      136073       0.705       0.448       0.465       0.296\n",
      "                              animal       16445          82       0.522      0.0854       0.137      0.0704\n",
      "              human.pedestrian.adult       16445       28721       0.799       0.731       0.776        0.46\n",
      "              human.pedestrian.child       16445         251       0.462      0.0876       0.114      0.0621\n",
      "human.pedestrian.construction_worker       16445        3117       0.755       0.593       0.636       0.345\n",
      "  human.pedestrian.personal_mobility       16445         453       0.523       0.605       0.506       0.237\n",
      "     human.pedestrian.police_officer       16445          96       0.444       0.229       0.253       0.161\n",
      "           human.pedestrian.stroller       16445          70       0.692       0.386        0.39       0.266\n",
      "         human.pedestrian.wheelchair       16445           2           1           0     0.00131    0.000131\n",
      "              movable_object.barrier       16445       18433       0.785       0.734       0.776         0.5\n",
      "               movable_object.debris       16445         710       0.472       0.162       0.166      0.0915\n",
      "    movable_object.pushable_pullable       16445         645       0.554       0.489       0.439       0.279\n",
      "          movable_object.trafficcone       16445       18587       0.838       0.801       0.845       0.487\n",
      "          static_object.bicycle_rack       16445         603       0.569       0.655       0.577       0.345\n",
      "                     vehicle.bicycle       16445        3352       0.733       0.757       0.771       0.537\n",
      "                   vehicle.bus.bendy       16445          62       0.573      0.0484      0.0871      0.0582\n",
      "                   vehicle.bus.rigid       16445        1823       0.769       0.669       0.728       0.559\n",
      "                         vehicle.car       16445       47279        0.83       0.848       0.886       0.645\n",
      "                vehicle.construction       16445        1303       0.711       0.652       0.656       0.358\n",
      "         vehicle.emergency.ambulance       16445           8           1           0           0           0\n",
      "            vehicle.emergency.police       16445          35           1           0    0.000374    0.000298\n",
      "                  vehicle.motorcycle       16445        3097       0.786       0.843       0.867       0.599\n",
      "                     vehicle.trailer       16445         486       0.646       0.272        0.36       0.217\n",
      "                       vehicle.truck       16445        6858        0.75       0.663        0.72       0.522\n",
      "Speed: 8.6/1.3/9.9 ms inference/NMS/total per 640x640 image at batch-size 1\n",
      "Results saved to datasets/nuimages23/yolov7x-bsz1/exp5\n",
      "\n",
      "--------------------------------------------------------\n",
      "\n",
      "Mean inference speed (5 trials, NMS excluded): 115 FPS\n"
     ]
    }
   ],
   "source": [
    "# YOLOv7-X\n",
    "weights = 'weights/trained/nuimages23-yolov7x-fedoptm.pt'\n",
    "saving_path = 'datasets/nuimages23/yolov7x-bsz1'\n",
    "img_size = 640\n",
    "\n",
    "run(data, bsz, trials, weights, saving_path, img_size, conf_thres, iou_thres)"
   ],
   "id": "iiQ48vXGXcme"
  },
  {
   "cell_type": "code",
   "execution_count": 19,
   "metadata": {
    "id": "GnKdsdMteVu7",
    "colab": {
     "base_uri": "https://localhost:8080/"
    },
    "outputId": "5b26fa67-3eff-403c-b10f-49ae18b20c40"
   },
   "outputs": [
    {
     "output_type": "stream",
     "name": "stdout",
     "text": [
      "Namespace(saving_path='datasets/nuimages23/yolov7-w6-bsz1', kround=4, weights=['weights/trained/nuimages23-yolov7-w6-fedoptm.pt'], data='data/nuimages23.yaml', batch_size=1, img_size=1280, conf_thres=0.001, iou_thres=0.65, task='val', device='0', single_cls=False, augment=False, verbose=False, save_txt=False, save_hybrid=False, save_conf=False, save_json=False, project='datasets/nuimages23/yolov7-w6-bsz1', name='exp', exist_ok=False, no_trace=False, v5_metric=False)\n",
      "YOLOR 🚀 2024-2-27 torch 2.1.0+cu121 CUDA:0 (Tesla V100-SXM2-16GB, 16151.125MB)\n",
      "\n",
      "Fusing layers... \n",
      "Model Summary: 343 layers, 69955856 parameters, 69955856 gradients\n",
      " Convert model to Traced-model... \n",
      "/usr/local/lib/python3.10/dist-packages/torch/nn/modules/module.py:844: UserWarning: The .grad attribute of a Tensor that is not a leaf Tensor is being accessed. Its .grad attribute won't be populated during autograd.backward(). If you indeed want the .grad field to be populated for a non-leaf Tensor, use .retain_grad() on the non-leaf Tensor. If you access the non-leaf Tensor by mistake, make sure you access the leaf Tensor instead. See github.com/pytorch/pytorch/pull/30531 for more informations. (Triggered internally at aten/src/ATen/core/TensorBody.h:489.)\n",
      "  if param.grad is not None:\n",
      " traced_script_module saved! \n",
      " model is traced! \n",
      "\n",
      "/usr/local/lib/python3.10/dist-packages/torch/functional.py:504: UserWarning: torch.meshgrid: in an upcoming release, it will be required to pass the indexing argument. (Triggered internally at ../aten/src/ATen/native/TensorShape.cpp:3526.)\n",
      "  return _VF.meshgrid(tensors, **kwargs)  # type: ignore[attr-defined]\n",
      "\u001B[34m\u001B[1mval: \u001B[0mScanning 'datasets/nuimages23/server/labels.cache' images and labels... 16445 found, 0 missing, 1561 empty, 0 corrupted: 100% 16445/16445 [00:00<?, ?it/s]\n",
      "                               Class      Images      Labels           P           R      mAP@.5  mAP@.5:.95: 100% 16445/16445 [18:23<00:00, 14.90it/s]\n",
      "                                 all       16445      136073       0.692       0.485        0.49       0.324\n",
      "                              animal       16445          82       0.535       0.183        0.17      0.0973\n",
      "              human.pedestrian.adult       16445       28721       0.791       0.802       0.832       0.523\n",
      "              human.pedestrian.child       16445         251       0.387       0.112      0.0993      0.0536\n",
      "human.pedestrian.construction_worker       16445        3117       0.748        0.68       0.711       0.415\n",
      "  human.pedestrian.personal_mobility       16445         453       0.557       0.671       0.578       0.304\n",
      "     human.pedestrian.police_officer       16445          96       0.549       0.228       0.201       0.149\n",
      "           human.pedestrian.stroller       16445          70       0.671       0.386       0.443       0.285\n",
      "         human.pedestrian.wheelchair       16445           2           1           0           0           0\n",
      "              movable_object.barrier       16445       18433       0.765       0.786        0.81       0.536\n",
      "               movable_object.debris       16445         710       0.456        0.19       0.186      0.0998\n",
      "    movable_object.pushable_pullable       16445         645       0.539       0.543        0.48       0.329\n",
      "          movable_object.trafficcone       16445       18587       0.829        0.85       0.881       0.539\n",
      "          static_object.bicycle_rack       16445         603        0.59       0.615       0.584       0.353\n",
      "                     vehicle.bicycle       16445        3352       0.714       0.808         0.8       0.591\n",
      "                   vehicle.bus.bendy       16445          62       0.447      0.0653       0.117      0.0611\n",
      "                   vehicle.bus.rigid       16445        1823       0.696       0.737       0.762       0.609\n",
      "                         vehicle.car       16445       47279       0.819       0.891       0.916       0.692\n",
      "                vehicle.construction       16445        1303        0.69       0.685       0.679       0.382\n",
      "         vehicle.emergency.ambulance       16445           8           1           0           0           0\n",
      "            vehicle.emergency.police       16445          35           1           0     0.00215     0.00205\n",
      "                  vehicle.motorcycle       16445        3097       0.812       0.872       0.894       0.645\n",
      "                     vehicle.trailer       16445         486       0.612       0.312       0.362        0.22\n",
      "                       vehicle.truck       16445        6858       0.717       0.735        0.76       0.573\n",
      "Speed: 11.1/1.4/12.4 ms inference/NMS/total per 1280x1280 image at batch-size 1\n",
      "Results saved to datasets/nuimages23/yolov7-w6-bsz1/exp5\n",
      "\n",
      "--------------------------------------------------------\n",
      "\n",
      "Mean inference speed (5 trials, NMS excluded): 90 FPS\n"
     ]
    }
   ],
   "source": [
    "# YOLOv7-W6\n",
    "weights = 'weights/trained/nuimages23-yolov7-w6-fedoptm.pt'\n",
    "saving_path = 'datasets/nuimages23/yolov7-w6-bsz1'\n",
    "img_size = 1280\n",
    "\n",
    "run(data, bsz, trials, weights, saving_path, img_size, conf_thres, iou_thres)"
   ],
   "id": "GnKdsdMteVu7"
  },
  {
   "cell_type": "code",
   "execution_count": null,
   "metadata": {
    "id": "o3-lE-U56-R6"
   },
   "outputs": [],
   "source": [],
   "id": "o3-lE-U56-R6"
  }
 ],
 "metadata": {
  "accelerator": "GPU",
  "colab": {
   "gpuType": "V100",
   "provenance": []
  },
  "kernelspec": {
   "display_name": "Python 3",
   "name": "python3"
  },
  "language_info": {
   "codemirror_mode": {
    "name": "ipython",
    "version": 2
   },
   "file_extension": ".py",
   "mimetype": "text/x-python",
   "name": "python",
   "nbconvert_exporter": "python",
   "pygments_lexer": "ipython2",
   "version": "2.7.6"
  }
 },
 "nbformat": 4,
 "nbformat_minor": 5
}
