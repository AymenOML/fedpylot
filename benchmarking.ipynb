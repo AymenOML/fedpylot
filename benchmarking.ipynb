{
 "cells": [
  {
   "cell_type": "markdown",
   "metadata": {
    "id": "hrmnNRO1CZE2"
   },
   "source": [
    "## License Information\n",
    "\n",
    "Copyright (C) 2024 Cyprien Quéméneur\n",
    "\n",
    "FedPylot is released under the GPL-3.0 license, please refer to the LICENSE file in the root directory of the program.\n",
    "\n",
    "For the full copyright notices, please refer to the NOTICE file in the root directory of the program."
   ],
   "id": "hrmnNRO1CZE2"
  },
  {
   "cell_type": "markdown",
   "metadata": {
    "id": "EIUi5fOlYMxA"
   },
   "source": [
    "## System Information"
   ],
   "id": "EIUi5fOlYMxA"
  },
  {
   "cell_type": "code",
   "execution_count": 1,
   "metadata": {
    "colab": {
     "base_uri": "https://localhost:8080/"
    },
    "id": "36-qY6G5YFcJ",
    "outputId": "73ed3af8-07e2-4a8a-e659-cd90d5f83413"
   },
   "outputs": [
    {
     "output_type": "stream",
     "name": "stdout",
     "text": [
      "Python version: 3.10.12 (main, Nov 20 2023, 15:14:05) [GCC 11.4.0], sys.version_info(major=3, minor=10, micro=12, releaselevel='final', serial=0) \n",
      "Pytorch version: 2.2.1+cu121 \n",
      "GPU 0: Tesla V100-SXM2-16GB (UUID: GPU-5424c418-09d4-348a-6b02-27736bd997cc)\n"
     ]
    }
   ],
   "source": [
    "import sys\n",
    "import torch\n",
    "\n",
    "print(f\"Python version: {sys.version}, {sys.version_info} \")\n",
    "print(f\"Pytorch version: {torch.__version__} \")\n",
    "!nvidia-smi -L"
   ],
   "id": "36-qY6G5YFcJ"
  },
  {
   "cell_type": "markdown",
   "metadata": {
    "id": "bsbBLnP0Wa1m"
   },
   "source": [
    "## Preparation"
   ],
   "id": "bsbBLnP0Wa1m"
  },
  {
   "cell_type": "code",
   "execution_count": 2,
   "metadata": {
    "colab": {
     "base_uri": "https://localhost:8080/"
    },
    "id": "initial_id",
    "outputId": "3a9388c8-4190-487a-caaf-923e25f38940"
   },
   "outputs": [
    {
     "output_type": "stream",
     "name": "stdout",
     "text": [
      "Mounted at /content/gdrive\n",
      "/content/fedpylot\n"
     ]
    }
   ],
   "source": [
    "# for now the code, fully trained weights, and data are imported from a drive\n",
    "from google.colab import drive\n",
    "\n",
    "drive.mount('/content/gdrive')\n",
    "!cp -r gdrive/MyDrive/fedpylot ./\n",
    "drive.flush_and_unmount()\n",
    "%cd fedpylot"
   ],
   "id": "initial_id"
  },
  {
   "cell_type": "markdown",
   "metadata": {
    "id": "7x9NRKQRC3mA"
   },
   "source": [
    "## Benchmarking"
   ],
   "id": "7x9NRKQRC3mA"
  },
  {
   "cell_type": "code",
   "execution_count": 3,
   "metadata": {
    "id": "sKy8RN4aoQ6v"
   },
   "outputs": [],
   "source": [
    "import os\n",
    "from google.colab import output\n",
    "import pandas as pd"
   ],
   "id": "sKy8RN4aoQ6v"
  },
  {
   "cell_type": "code",
   "execution_count": 4,
   "metadata": {
    "id": "rgQoj6WHoVUU"
   },
   "outputs": [],
   "source": [
    "def run(data, bsz, trials, weights, spath, img, conf, iou):\n",
    "    \"\"\"Evaluate YOLOv7(-X) several times and print the mean inference speed.\"\"\"\n",
    "    if not os.path.exists(saving_path):\n",
    "        os.makedirs(saving_path)\n",
    "    for trial in range(trials):\n",
    "        output.clear()  # only display the current trial\n",
    "        !python yolov7/test.py --data $data --batch $bsz --kround $trial --weights $weights --saving-path $spath --project $spath --img $img --conf $conf --iou $iou --device 0\n",
    "    results = pd.read_csv(os.path.join(saving_path, 'results.csv'))\n",
    "    print('\\n--------------------------------------------------------\\n')\n",
    "    if bsz == 1:\n",
    "        t = round(1000 / results['batch avg time (ms)'].mean())\n",
    "        print(f'Mean inference speed ({trials} trials, NMS excluded): {t} FPS')\n",
    "    else:\n",
    "        t = round(results['batch avg time (ms)'].mean(), 1)\n",
    "        print(f'Mean inference speed ({trials} trials, NMS excluded): {t} ms')"
   ],
   "id": "rgQoj6WHoVUU"
  },
  {
   "cell_type": "markdown",
   "metadata": {
    "id": "oF06-psyWhuN"
   },
   "source": [
    "### KITTI"
   ],
   "id": "oF06-psyWhuN"
  },
  {
   "cell_type": "code",
   "execution_count": 5,
   "metadata": {
    "id": "mwQMltyqTKi8"
   },
   "outputs": [],
   "source": [
    "# untar KITTI validation set\n",
    "!tar -xf datasets/kitti/server.tar -C datasets/kitti"
   ],
   "id": "mwQMltyqTKi8"
  },
  {
   "cell_type": "code",
   "execution_count": 6,
   "metadata": {
    "id": "uG_Km16AU0Rz"
   },
   "outputs": [],
   "source": [
    "# parameters\n",
    "data = 'data/kitti.yaml'       # *.data path\n",
    "bsz = 1                        # batch size\n",
    "trials = 20                    # number of inferences to run\n",
    "conf_thres = 0.001             # object confidence threshold\n",
    "iou_thres = 0.65               # IOU threshold for NMS"
   ],
   "id": "uG_Km16AU0Rz"
  },
  {
   "cell_type": "code",
   "source": [
    "# YOLOv7-tiny\n",
    "weights = 'weights/trained/kitti-yolov7-tiny-fedoptm.pt'\n",
    "saving_path = 'datasets/kitti/yolov7-tiny-bsz1'\n",
    "img_size = 640\n",
    "\n",
    "run(data, bsz, trials, weights, saving_path, img_size, conf_thres, iou_thres)"
   ],
   "metadata": {
    "colab": {
     "base_uri": "https://localhost:8080/"
    },
    "id": "ELQ87DnPmQZK",
    "outputId": "46ea1625-cef0-4245-c4e1-2016b9cee93f"
   },
   "id": "ELQ87DnPmQZK",
   "execution_count": 7,
   "outputs": [
    {
     "output_type": "stream",
     "name": "stdout",
     "text": [
      "Namespace(saving_path='datasets/kitti/yolov7-tiny-bsz1', kround=19, weights=['weights/trained/kitti-yolov7-tiny-fedoptm.pt'], data='data/kitti.yaml', batch_size=1, img_size=640, conf_thres=0.001, iou_thres=0.65, task='val', device='0', single_cls=False, augment=False, verbose=False, save_txt=False, save_hybrid=False, save_conf=False, save_json=False, project='datasets/kitti/yolov7-tiny-bsz1', name='exp', exist_ok=False, no_trace=False, v5_metric=False)\n",
      "YOLOR 🚀 2024-3-20 torch 2.2.1+cu121 CUDA:0 (Tesla V100-SXM2-16GB, 16151.125MB)\n",
      "\n",
      "Fusing layers... \n",
      "Model Summary: 200 layers, 6025525 parameters, 6025525 gradients\n",
      " Convert model to Traced-model... \n",
      "/usr/local/lib/python3.10/dist-packages/torch/nn/modules/module.py:836: UserWarning: The .grad attribute of a Tensor that is not a leaf Tensor is being accessed. Its .grad attribute won't be populated during autograd.backward(). If you indeed want the .grad field to be populated for a non-leaf Tensor, use .retain_grad() on the non-leaf Tensor. If you access the non-leaf Tensor by mistake, make sure you access the leaf Tensor instead. See github.com/pytorch/pytorch/pull/30531 for more informations. (Triggered internally at aten/src/ATen/core/TensorBody.h:489.)\n",
      "  if param.grad is not None:\n",
      " traced_script_module saved! \n",
      " model is traced! \n",
      "\n",
      "/usr/local/lib/python3.10/dist-packages/torch/functional.py:507: UserWarning: torch.meshgrid: in an upcoming release, it will be required to pass the indexing argument. (Triggered internally at ../aten/src/ATen/native/TensorShape.cpp:3549.)\n",
      "  return _VF.meshgrid(tensors, **kwargs)  # type: ignore[attr-defined]\n",
      "\u001B[34m\u001B[1mval: \u001B[0mScanning 'datasets/kitti/server/labels.cache' images and labels... 1871 found, 0 missing, 0 empty, 0 corrupted: 100% 1871/1871 [00:00<?, ?it/s]\n",
      "                               Class      Images      Labels           P           R      mAP@.5  mAP@.5:.95: 100% 1871/1871 [00:55<00:00, 33.57it/s]\n",
      "                                 all        1871       10210       0.899       0.778       0.838       0.534\n",
      "                                 Car        1871        7110       0.924       0.891       0.939       0.686\n",
      "                                 Van        1871         780       0.917       0.834        0.89       0.632\n",
      "                               Truck        1871         307       0.949       0.941       0.969       0.719\n",
      "                          Pedestrian        1871        1151       0.873       0.676       0.763       0.376\n",
      "                      Person_sitting        1871          53       0.804       0.585       0.636       0.333\n",
      "                             Cyclist        1871         428       0.914        0.72       0.818        0.47\n",
      "                                Tram        1871         148       0.916       0.872       0.906       0.561\n",
      "                                Misc        1871         233       0.894       0.704       0.786       0.495\n",
      "Speed: 4.8/1.4/6.3 ms inference/NMS/total per 640x640 image at batch-size 1\n",
      "Results saved to datasets/kitti/yolov7-tiny-bsz1/exp20\n",
      "\n",
      "--------------------------------------------------------\n",
      "\n",
      "Mean inference speed (20 trials, NMS excluded): 208 FPS\n"
     ]
    }
   ]
  },
  {
   "cell_type": "code",
   "execution_count": 8,
   "metadata": {
    "colab": {
     "base_uri": "https://localhost:8080/"
    },
    "id": "FZs31ze3Uvx9",
    "outputId": "66b82bb5-c30a-4818-df24-f250269a029a"
   },
   "outputs": [
    {
     "output_type": "stream",
     "name": "stdout",
     "text": [
      "Namespace(saving_path='datasets/kitti/yolov7-bsz1', kround=19, weights=['weights/trained/kitti-yolov7-fedoptm.pt'], data='data/kitti.yaml', batch_size=1, img_size=640, conf_thres=0.001, iou_thres=0.65, task='val', device='0', single_cls=False, augment=False, verbose=False, save_txt=False, save_hybrid=False, save_conf=False, save_json=False, project='datasets/kitti/yolov7-bsz1', name='exp', exist_ok=False, no_trace=False, v5_metric=False)\n",
      "YOLOR 🚀 2024-3-20 torch 2.2.1+cu121 CUDA:0 (Tesla V100-SXM2-16GB, 16151.125MB)\n",
      "\n",
      "Fusing layers... \n",
      "RepConv.fuse_repvgg_block\n",
      "RepConv.fuse_repvgg_block\n",
      "RepConv.fuse_repvgg_block\n",
      "Model Summary: 306 layers, 36517621 parameters, 36517621 gradients\n",
      " Convert model to Traced-model... \n",
      "/usr/local/lib/python3.10/dist-packages/torch/nn/modules/module.py:836: UserWarning: The .grad attribute of a Tensor that is not a leaf Tensor is being accessed. Its .grad attribute won't be populated during autograd.backward(). If you indeed want the .grad field to be populated for a non-leaf Tensor, use .retain_grad() on the non-leaf Tensor. If you access the non-leaf Tensor by mistake, make sure you access the leaf Tensor instead. See github.com/pytorch/pytorch/pull/30531 for more informations. (Triggered internally at aten/src/ATen/core/TensorBody.h:489.)\n",
      "  if param.grad is not None:\n",
      " traced_script_module saved! \n",
      " model is traced! \n",
      "\n",
      "/usr/local/lib/python3.10/dist-packages/torch/functional.py:507: UserWarning: torch.meshgrid: in an upcoming release, it will be required to pass the indexing argument. (Triggered internally at ../aten/src/ATen/native/TensorShape.cpp:3549.)\n",
      "  return _VF.meshgrid(tensors, **kwargs)  # type: ignore[attr-defined]\n",
      "\u001B[34m\u001B[1mval: \u001B[0mScanning 'datasets/kitti/server/labels.cache' images and labels... 1871 found, 0 missing, 0 empty, 0 corrupted: 100% 1871/1871 [00:00<?, ?it/s]\n",
      "                               Class      Images      Labels           P           R      mAP@.5  mAP@.5:.95: 100% 1871/1871 [00:59<00:00, 31.51it/s]\n",
      "                                 all        1871       10210        0.94       0.869        0.91       0.676\n",
      "                                 Car        1871        7110        0.94        0.94       0.962        0.78\n",
      "                                 Van        1871         780        0.94       0.924       0.951       0.766\n",
      "                               Truck        1871         307       0.985       0.971       0.986       0.821\n",
      "                          Pedestrian        1871        1151       0.915       0.785       0.838       0.483\n",
      "                      Person_sitting        1871          53        0.92        0.66       0.787       0.535\n",
      "                             Cyclist        1871         428       0.939       0.848       0.899       0.623\n",
      "                                Tram        1871         148        0.95       0.919       0.925       0.694\n",
      "                                Misc        1871         233        0.93       0.901       0.935       0.704\n",
      "Speed: 7.1/1.4/8.4 ms inference/NMS/total per 640x640 image at batch-size 1\n",
      "Results saved to datasets/kitti/yolov7-bsz1/exp20\n",
      "\n",
      "--------------------------------------------------------\n",
      "\n",
      "Mean inference speed (20 trials, NMS excluded): 142 FPS\n"
     ]
    }
   ],
   "source": [
    "# YOLOv7\n",
    "weights = 'weights/trained/kitti-yolov7-fedoptm.pt'\n",
    "saving_path = 'datasets/kitti/yolov7-bsz1'\n",
    "img_size = 640\n",
    "\n",
    "run(data, bsz, trials, weights, saving_path, img_size, conf_thres, iou_thres)"
   ],
   "id": "FZs31ze3Uvx9"
  },
  {
   "cell_type": "code",
   "execution_count": 9,
   "metadata": {
    "colab": {
     "base_uri": "https://localhost:8080/"
    },
    "id": "v54aGiUuw6ic",
    "outputId": "062d87bd-838b-4890-8b8c-d9bea0fd5c46"
   },
   "outputs": [
    {
     "output_type": "stream",
     "name": "stdout",
     "text": [
      "Namespace(saving_path='datasets/kitti/yolov7x-bsz1', kround=19, weights=['weights/trained/kitti-yolov7x-fedoptm.pt'], data='data/kitti.yaml', batch_size=1, img_size=640, conf_thres=0.001, iou_thres=0.65, task='val', device='0', single_cls=False, augment=False, verbose=False, save_txt=False, save_hybrid=False, save_conf=False, save_json=False, project='datasets/kitti/yolov7x-bsz1', name='exp', exist_ok=False, no_trace=False, v5_metric=False)\n",
      "YOLOR 🚀 2024-3-20 torch 2.2.1+cu121 CUDA:0 (Tesla V100-SXM2-16GB, 16151.125MB)\n",
      "\n",
      "Fusing layers... \n",
      "Model Summary: 354 layers, 70827253 parameters, 70827253 gradients\n",
      " Convert model to Traced-model... \n",
      "/usr/local/lib/python3.10/dist-packages/torch/nn/modules/module.py:836: UserWarning: The .grad attribute of a Tensor that is not a leaf Tensor is being accessed. Its .grad attribute won't be populated during autograd.backward(). If you indeed want the .grad field to be populated for a non-leaf Tensor, use .retain_grad() on the non-leaf Tensor. If you access the non-leaf Tensor by mistake, make sure you access the leaf Tensor instead. See github.com/pytorch/pytorch/pull/30531 for more informations. (Triggered internally at aten/src/ATen/core/TensorBody.h:489.)\n",
      "  if param.grad is not None:\n",
      " traced_script_module saved! \n",
      " model is traced! \n",
      "\n",
      "/usr/local/lib/python3.10/dist-packages/torch/functional.py:507: UserWarning: torch.meshgrid: in an upcoming release, it will be required to pass the indexing argument. (Triggered internally at ../aten/src/ATen/native/TensorShape.cpp:3549.)\n",
      "  return _VF.meshgrid(tensors, **kwargs)  # type: ignore[attr-defined]\n",
      "\u001B[34m\u001B[1mval: \u001B[0mScanning 'datasets/kitti/server/labels.cache' images and labels... 1871 found, 0 missing, 0 empty, 0 corrupted: 100% 1871/1871 [00:00<?, ?it/s]\n",
      "                               Class      Images      Labels           P           R      mAP@.5  mAP@.5:.95: 100% 1871/1871 [01:01<00:00, 30.38it/s]\n",
      "                                 all        1871       10210        0.93       0.885       0.916       0.686\n",
      "                                 Car        1871        7110       0.934       0.953       0.964       0.792\n",
      "                                 Van        1871         780       0.943        0.94       0.962       0.784\n",
      "                               Truck        1871         307       0.968        0.98       0.989       0.826\n",
      "                          Pedestrian        1871        1151       0.919       0.818       0.863       0.507\n",
      "                      Person_sitting        1871          53        0.88       0.695       0.794       0.514\n",
      "                             Cyclist        1871         428       0.945       0.847        0.89       0.625\n",
      "                                Tram        1871         148       0.907       0.939       0.915       0.725\n",
      "                                Misc        1871         233       0.944        0.91       0.946       0.716\n",
      "Speed: 8.1/1.4/9.5 ms inference/NMS/total per 640x640 image at batch-size 1\n",
      "Results saved to datasets/kitti/yolov7x-bsz1/exp20\n",
      "\n",
      "--------------------------------------------------------\n",
      "\n",
      "Mean inference speed (20 trials, NMS excluded): 123 FPS\n"
     ]
    }
   ],
   "source": [
    "# YOLOv7-X\n",
    "weights = 'weights/trained/kitti-yolov7x-fedoptm.pt'\n",
    "saving_path = 'datasets/kitti/yolov7x-bsz1'\n",
    "img_size = 640\n",
    "\n",
    "run(data, bsz, trials, weights, saving_path, img_size, conf_thres, iou_thres)"
   ],
   "id": "v54aGiUuw6ic"
  },
  {
   "cell_type": "code",
   "execution_count": 10,
   "metadata": {
    "id": "I59sMcJKdZFV",
    "colab": {
     "base_uri": "https://localhost:8080/"
    },
    "outputId": "01dbbb4d-3072-4dba-e46a-cb580c74f82b"
   },
   "outputs": [
    {
     "output_type": "stream",
     "name": "stdout",
     "text": [
      "Namespace(saving_path='datasets/kitti/yolov7-w6-bsz1', kround=19, weights=['weights/trained/kitti-yolov7-w6-fedoptm.pt'], data='data/kitti.yaml', batch_size=1, img_size=1280, conf_thres=0.001, iou_thres=0.65, task='val', device='0', single_cls=False, augment=False, verbose=False, save_txt=False, save_hybrid=False, save_conf=False, save_json=False, project='datasets/kitti/yolov7-w6-bsz1', name='exp', exist_ok=False, no_trace=False, v5_metric=False)\n",
      "YOLOR 🚀 2024-3-20 torch 2.2.1+cu121 CUDA:0 (Tesla V100-SXM2-16GB, 16151.125MB)\n",
      "\n",
      "Fusing layers... \n",
      "Model Summary: 343 layers, 69840476 parameters, 69840476 gradients\n",
      " Convert model to Traced-model... \n",
      "/usr/local/lib/python3.10/dist-packages/torch/nn/modules/module.py:836: UserWarning: The .grad attribute of a Tensor that is not a leaf Tensor is being accessed. Its .grad attribute won't be populated during autograd.backward(). If you indeed want the .grad field to be populated for a non-leaf Tensor, use .retain_grad() on the non-leaf Tensor. If you access the non-leaf Tensor by mistake, make sure you access the leaf Tensor instead. See github.com/pytorch/pytorch/pull/30531 for more informations. (Triggered internally at aten/src/ATen/core/TensorBody.h:489.)\n",
      "  if param.grad is not None:\n",
      " traced_script_module saved! \n",
      " model is traced! \n",
      "\n",
      "/usr/local/lib/python3.10/dist-packages/torch/functional.py:507: UserWarning: torch.meshgrid: in an upcoming release, it will be required to pass the indexing argument. (Triggered internally at ../aten/src/ATen/native/TensorShape.cpp:3549.)\n",
      "  return _VF.meshgrid(tensors, **kwargs)  # type: ignore[attr-defined]\n",
      "\u001B[34m\u001B[1mval: \u001B[0mScanning 'datasets/kitti/server/labels.cache' images and labels... 1871 found, 0 missing, 0 empty, 0 corrupted: 100% 1871/1871 [00:00<?, ?it/s]\n",
      "                               Class      Images      Labels           P           R      mAP@.5  mAP@.5:.95: 100% 1871/1871 [00:58<00:00, 31.88it/s]\n",
      "                                 all        1871       10210       0.931       0.908       0.924       0.718\n",
      "                                 Car        1871        7110       0.942       0.951       0.958       0.818\n",
      "                                 Van        1871         780        0.94       0.937        0.96       0.813\n",
      "                               Truck        1871         307       0.967       0.977       0.974       0.852\n",
      "                          Pedestrian        1871        1151       0.902       0.831       0.852       0.512\n",
      "                      Person_sitting        1871          53       0.933       0.792       0.857       0.602\n",
      "                             Cyclist        1871         428       0.921       0.888       0.911       0.654\n",
      "                                Tram        1871         148       0.932       0.959        0.95       0.757\n",
      "                                Misc        1871         233       0.913       0.927       0.931       0.738\n",
      "Speed: 8.7/1.5/10.2 ms inference/NMS/total per 1280x1280 image at batch-size 1\n",
      "Results saved to datasets/kitti/yolov7-w6-bsz1/exp20\n",
      "\n",
      "--------------------------------------------------------\n",
      "\n",
      "Mean inference speed (20 trials, NMS excluded): 115 FPS\n"
     ]
    }
   ],
   "source": [
    "# YOLOv7-W6\n",
    "weights = 'weights/trained/kitti-yolov7-w6-fedoptm.pt'\n",
    "saving_path = 'datasets/kitti/yolov7-w6-bsz1'\n",
    "img_size = 1280\n",
    "\n",
    "run(data, bsz, trials, weights, saving_path, img_size, conf_thres, iou_thres)"
   ],
   "id": "I59sMcJKdZFV"
  },
  {
   "cell_type": "markdown",
   "metadata": {
    "id": "yE2UdEUAWkKt"
   },
   "source": [
    "### nuImages-10"
   ],
   "id": "yE2UdEUAWkKt"
  },
  {
   "cell_type": "code",
   "execution_count": 11,
   "metadata": {
    "id": "mhjW935XWl_M"
   },
   "outputs": [],
   "source": [
    "# untar nuImages-10 validation set\n",
    "!tar -xf datasets/nuimages10/server.tar -C datasets/nuimages10"
   ],
   "id": "mhjW935XWl_M"
  },
  {
   "cell_type": "code",
   "execution_count": 12,
   "metadata": {
    "id": "Qya7R8JHav6G"
   },
   "outputs": [],
   "source": [
    "# parameters\n",
    "data = 'data/nuimages10.yaml'  # *.data path\n",
    "bsz = 1                        # batch size\n",
    "trials = 5                     # number of inferences to run\n",
    "conf_thres = 0.001             # object confidence threshold\n",
    "iou_thres = 0.65               # IOU threshold for NMS"
   ],
   "id": "Qya7R8JHav6G"
  },
  {
   "cell_type": "code",
   "source": [
    "# YOLOv7-tiny\n",
    "weights = 'weights/trained/nuimages10-yolov7-tiny-fedoptm.pt'\n",
    "saving_path = 'datasets/nuimages10/yolov7-tiny-bsz1'\n",
    "img_size = 640\n",
    "\n",
    "run(data, bsz, trials, weights, saving_path, img_size, conf_thres, iou_thres)"
   ],
   "metadata": {
    "id": "5ZV5W0_CmeqZ",
    "colab": {
     "base_uri": "https://localhost:8080/"
    },
    "outputId": "6832b6b6-937d-4d2a-e629-cb28d751a737"
   },
   "id": "5ZV5W0_CmeqZ",
   "execution_count": 13,
   "outputs": [
    {
     "output_type": "stream",
     "name": "stdout",
     "text": [
      "Namespace(saving_path='datasets/nuimages10/yolov7-tiny-bsz1', kround=4, weights=['weights/trained/nuimages10-yolov7-tiny-fedoptm.pt'], data='data/nuimages10.yaml', batch_size=1, img_size=640, conf_thres=0.001, iou_thres=0.65, task='val', device='0', single_cls=False, augment=False, verbose=False, save_txt=False, save_hybrid=False, save_conf=False, save_json=False, project='datasets/nuimages10/yolov7-tiny-bsz1', name='exp', exist_ok=False, no_trace=False, v5_metric=False)\n",
      "YOLOR 🚀 2024-3-20 torch 2.2.1+cu121 CUDA:0 (Tesla V100-SXM2-16GB, 16151.125MB)\n",
      "\n",
      "Fusing layers... \n",
      "Model Summary: 200 layers, 6030919 parameters, 6030919 gradients\n",
      " Convert model to Traced-model... \n",
      "/usr/local/lib/python3.10/dist-packages/torch/nn/modules/module.py:836: UserWarning: The .grad attribute of a Tensor that is not a leaf Tensor is being accessed. Its .grad attribute won't be populated during autograd.backward(). If you indeed want the .grad field to be populated for a non-leaf Tensor, use .retain_grad() on the non-leaf Tensor. If you access the non-leaf Tensor by mistake, make sure you access the leaf Tensor instead. See github.com/pytorch/pytorch/pull/30531 for more informations. (Triggered internally at aten/src/ATen/core/TensorBody.h:489.)\n",
      "  if param.grad is not None:\n",
      " traced_script_module saved! \n",
      " model is traced! \n",
      "\n",
      "/usr/local/lib/python3.10/dist-packages/torch/functional.py:507: UserWarning: torch.meshgrid: in an upcoming release, it will be required to pass the indexing argument. (Triggered internally at ../aten/src/ATen/native/TensorShape.cpp:3549.)\n",
      "  return _VF.meshgrid(tensors, **kwargs)  # type: ignore[attr-defined]\n",
      "\u001B[34m\u001B[1mval: \u001B[0mScanning 'datasets/nuimages10/server/labels.cache' images and labels... 16445 found, 0 missing, 1661 empty, 0 corrupted: 100% 16445/16445 [00:00<?, ?it/s]\n",
      "                               Class      Images      Labels           P           R      mAP@.5  mAP@.5:.95: 100% 16445/16445 [10:57<00:00, 25.03it/s]\n",
      "                                 all       16445      133465       0.722       0.512       0.576       0.333\n",
      "                          pedestrian       16445       32185       0.754       0.494       0.583       0.278\n",
      "                             barrier       16445       18433        0.76       0.584       0.654       0.376\n",
      "                        traffic_cone       16445       18587       0.771       0.609       0.689       0.334\n",
      "                             bicycle       16445        3352       0.733       0.584       0.641       0.381\n",
      "                                 bus       16445        1885       0.748       0.459       0.545       0.386\n",
      "                                 car       16445       47279       0.793        0.71        0.78         0.5\n",
      "                construction_vehicle       16445        1303        0.67        0.43        0.46       0.212\n",
      "                          motorcycle       16445        3097       0.766       0.677       0.731       0.439\n",
      "                             trailer       16445         486        0.54       0.101       0.138      0.0714\n",
      "                               truck       16445        6858       0.685       0.475       0.544       0.354\n",
      "Speed: 5.0/1.3/6.3 ms inference/NMS/total per 640x640 image at batch-size 1\n",
      "Results saved to datasets/nuimages10/yolov7-tiny-bsz1/exp5\n",
      "\n",
      "--------------------------------------------------------\n",
      "\n",
      "Mean inference speed (5 trials, NMS excluded): 201 FPS\n"
     ]
    }
   ]
  },
  {
   "cell_type": "code",
   "execution_count": 14,
   "metadata": {
    "id": "tJilPLpwRM2G",
    "colab": {
     "base_uri": "https://localhost:8080/"
    },
    "outputId": "0f669941-42ce-4f3f-a7a6-9daa337b81f1"
   },
   "outputs": [
    {
     "output_type": "stream",
     "name": "stdout",
     "text": [
      "Namespace(saving_path='datasets/nuimages10/yolov7-bsz1', kround=4, weights=['weights/trained/nuimages10-yolov7-fedoptm.pt'], data='data/nuimages10.yaml', batch_size=1, img_size=640, conf_thres=0.001, iou_thres=0.65, task='val', device='0', single_cls=False, augment=False, verbose=False, save_txt=False, save_hybrid=False, save_conf=False, save_json=False, project='datasets/nuimages10/yolov7-bsz1', name='exp', exist_ok=False, no_trace=False, v5_metric=False)\n",
      "YOLOR 🚀 2024-3-20 torch 2.2.1+cu121 CUDA:0 (Tesla V100-SXM2-16GB, 16151.125MB)\n",
      "\n",
      "Fusing layers... \n",
      "RepConv.fuse_repvgg_block\n",
      "RepConv.fuse_repvgg_block\n",
      "RepConv.fuse_repvgg_block\n",
      "Model Summary: 306 layers, 36528391 parameters, 36528391 gradients\n",
      " Convert model to Traced-model... \n",
      "/usr/local/lib/python3.10/dist-packages/torch/nn/modules/module.py:836: UserWarning: The .grad attribute of a Tensor that is not a leaf Tensor is being accessed. Its .grad attribute won't be populated during autograd.backward(). If you indeed want the .grad field to be populated for a non-leaf Tensor, use .retain_grad() on the non-leaf Tensor. If you access the non-leaf Tensor by mistake, make sure you access the leaf Tensor instead. See github.com/pytorch/pytorch/pull/30531 for more informations. (Triggered internally at aten/src/ATen/core/TensorBody.h:489.)\n",
      "  if param.grad is not None:\n",
      " traced_script_module saved! \n",
      " model is traced! \n",
      "\n",
      "/usr/local/lib/python3.10/dist-packages/torch/functional.py:507: UserWarning: torch.meshgrid: in an upcoming release, it will be required to pass the indexing argument. (Triggered internally at ../aten/src/ATen/native/TensorShape.cpp:3549.)\n",
      "  return _VF.meshgrid(tensors, **kwargs)  # type: ignore[attr-defined]\n",
      "\u001B[34m\u001B[1mval: \u001B[0mScanning 'datasets/nuimages10/server/labels.cache' images and labels... 16445 found, 0 missing, 1661 empty, 0 corrupted: 100% 16445/16445 [00:00<?, ?it/s]\n",
      "                               Class      Images      Labels           P           R      mAP@.5  mAP@.5:.95: 100% 16445/16445 [11:29<00:00, 23.87it/s]\n",
      "                                 all       16445      133465       0.801       0.662       0.725       0.476\n",
      "                          pedestrian       16445       32185       0.847        0.69       0.771       0.446\n",
      "                             barrier       16445       18433        0.82       0.694       0.764       0.488\n",
      "                        traffic_cone       16445       18587       0.858       0.774       0.835       0.478\n",
      "                             bicycle       16445        3352       0.777       0.722       0.763        0.53\n",
      "                                 bus       16445        1885       0.822       0.625       0.715       0.543\n",
      "                                 car       16445       47279       0.852       0.826       0.881       0.637\n",
      "                construction_vehicle       16445        1303        0.76       0.609       0.647       0.344\n",
      "                          motorcycle       16445        3097        0.81       0.823       0.859       0.586\n",
      "                             trailer       16445         486         0.7       0.216       0.309       0.198\n",
      "                               truck       16445        6858       0.766       0.639       0.705       0.513\n",
      "Speed: 7.2/1.2/8.4 ms inference/NMS/total per 640x640 image at batch-size 1\n",
      "Results saved to datasets/nuimages10/yolov7-bsz1/exp5\n",
      "\n",
      "--------------------------------------------------------\n",
      "\n",
      "Mean inference speed (5 trials, NMS excluded): 138 FPS\n"
     ]
    }
   ],
   "source": [
    "# YOLOv7\n",
    "weights = 'weights/trained/nuimages10-yolov7-fedoptm.pt'\n",
    "saving_path = 'datasets/nuimages10/yolov7-bsz1'\n",
    "img_size = 640\n",
    "\n",
    "run(data, bsz, trials, weights, saving_path, img_size, conf_thres, iou_thres)"
   ],
   "id": "tJilPLpwRM2G"
  },
  {
   "cell_type": "code",
   "execution_count": 15,
   "metadata": {
    "id": "MyKQJKwrRNyE",
    "colab": {
     "base_uri": "https://localhost:8080/"
    },
    "outputId": "25aa4496-386d-45ba-a6fc-a8bffd25fe0e"
   },
   "outputs": [
    {
     "output_type": "stream",
     "name": "stdout",
     "text": [
      "Namespace(saving_path='datasets/nuimages10/yolov7x-bsz1', kround=4, weights=['weights/trained/nuimages10-yolov7x-fedoptm.pt'], data='data/nuimages10.yaml', batch_size=1, img_size=640, conf_thres=0.001, iou_thres=0.65, task='val', device='0', single_cls=False, augment=False, verbose=False, save_txt=False, save_hybrid=False, save_conf=False, save_json=False, project='datasets/nuimages10/yolov7x-bsz1', name='exp', exist_ok=False, no_trace=False, v5_metric=False)\n",
      "YOLOR 🚀 2024-3-20 torch 2.2.1+cu121 CUDA:0 (Tesla V100-SXM2-16GB, 16151.125MB)\n",
      "\n",
      "Fusing layers... \n",
      "Model Summary: 354 layers, 70840711 parameters, 70840711 gradients\n",
      " Convert model to Traced-model... \n",
      "/usr/local/lib/python3.10/dist-packages/torch/nn/modules/module.py:836: UserWarning: The .grad attribute of a Tensor that is not a leaf Tensor is being accessed. Its .grad attribute won't be populated during autograd.backward(). If you indeed want the .grad field to be populated for a non-leaf Tensor, use .retain_grad() on the non-leaf Tensor. If you access the non-leaf Tensor by mistake, make sure you access the leaf Tensor instead. See github.com/pytorch/pytorch/pull/30531 for more informations. (Triggered internally at aten/src/ATen/core/TensorBody.h:489.)\n",
      "  if param.grad is not None:\n",
      " traced_script_module saved! \n",
      " model is traced! \n",
      "\n",
      "/usr/local/lib/python3.10/dist-packages/torch/functional.py:507: UserWarning: torch.meshgrid: in an upcoming release, it will be required to pass the indexing argument. (Triggered internally at ../aten/src/ATen/native/TensorShape.cpp:3549.)\n",
      "  return _VF.meshgrid(tensors, **kwargs)  # type: ignore[attr-defined]\n",
      "\u001B[34m\u001B[1mval: \u001B[0mScanning 'datasets/nuimages10/server/labels.cache' images and labels... 16445 found, 0 missing, 1661 empty, 0 corrupted: 100% 16445/16445 [00:00<?, ?it/s]\n",
      "                               Class      Images      Labels           P           R      mAP@.5  mAP@.5:.95: 100% 16445/16445 [11:57<00:00, 22.93it/s]\n",
      "                                 all       16445      133465       0.817       0.673       0.743       0.494\n",
      "                          pedestrian       16445       32185       0.874       0.693       0.783       0.461\n",
      "                             barrier       16445       18433       0.841       0.704       0.783       0.504\n",
      "                        traffic_cone       16445       18587        0.88       0.773       0.844       0.489\n",
      "                             bicycle       16445        3352       0.778       0.734       0.774        0.54\n",
      "                                 bus       16445        1885        0.82        0.64       0.727       0.558\n",
      "                                 car       16445       47279       0.874       0.824       0.892        0.65\n",
      "                construction_vehicle       16445        1303       0.772       0.635       0.668       0.367\n",
      "                          motorcycle       16445        3097       0.839       0.826        0.87       0.603\n",
      "                             trailer       16445         486       0.688       0.263       0.367       0.238\n",
      "                               truck       16445        6858       0.801       0.638       0.726        0.53\n",
      "Speed: 8.8/1.2/10.0 ms inference/NMS/total per 640x640 image at batch-size 1\n",
      "Results saved to datasets/nuimages10/yolov7x-bsz1/exp5\n",
      "\n",
      "--------------------------------------------------------\n",
      "\n",
      "Mean inference speed (5 trials, NMS excluded): 113 FPS\n"
     ]
    }
   ],
   "source": [
    "# YOLOv7-X\n",
    "weights = 'weights/trained/nuimages10-yolov7x-fedoptm.pt'\n",
    "saving_path = 'datasets/nuimages10/yolov7x-bsz1'\n",
    "img_size = 640\n",
    "\n",
    "run(data, bsz, trials, weights, saving_path, img_size, conf_thres, iou_thres)"
   ],
   "id": "MyKQJKwrRNyE"
  },
  {
   "cell_type": "code",
   "execution_count": 16,
   "metadata": {
    "id": "-ctSXxTVeD7a",
    "colab": {
     "base_uri": "https://localhost:8080/"
    },
    "outputId": "5d27eb76-ec28-4657-d113-3eaa3ec1ea7f"
   },
   "outputs": [
    {
     "output_type": "stream",
     "name": "stdout",
     "text": [
      "Namespace(saving_path='datasets/nuimages10/yolov7-w6-bsz1', kround=4, weights=['weights/trained/nuimages10-yolov7-w6-fedoptm.pt'], data='data/nuimages10.yaml', batch_size=1, img_size=1280, conf_thres=0.001, iou_thres=0.65, task='val', device='0', single_cls=False, augment=False, verbose=False, save_txt=False, save_hybrid=False, save_conf=False, save_json=False, project='datasets/nuimages10/yolov7-w6-bsz1', name='exp', exist_ok=False, no_trace=False, v5_metric=False)\n",
      "YOLOR 🚀 2024-3-20 torch 2.2.1+cu121 CUDA:0 (Tesla V100-SXM2-16GB, 16151.125MB)\n",
      "\n",
      "Fusing layers... \n",
      "Model Summary: 343 layers, 69855860 parameters, 69855860 gradients\n",
      " Convert model to Traced-model... \n",
      "/usr/local/lib/python3.10/dist-packages/torch/nn/modules/module.py:836: UserWarning: The .grad attribute of a Tensor that is not a leaf Tensor is being accessed. Its .grad attribute won't be populated during autograd.backward(). If you indeed want the .grad field to be populated for a non-leaf Tensor, use .retain_grad() on the non-leaf Tensor. If you access the non-leaf Tensor by mistake, make sure you access the leaf Tensor instead. See github.com/pytorch/pytorch/pull/30531 for more informations. (Triggered internally at aten/src/ATen/core/TensorBody.h:489.)\n",
      "  if param.grad is not None:\n",
      " traced_script_module saved! \n",
      " model is traced! \n",
      "\n",
      "/usr/local/lib/python3.10/dist-packages/torch/functional.py:507: UserWarning: torch.meshgrid: in an upcoming release, it will be required to pass the indexing argument. (Triggered internally at ../aten/src/ATen/native/TensorShape.cpp:3549.)\n",
      "  return _VF.meshgrid(tensors, **kwargs)  # type: ignore[attr-defined]\n",
      "\u001B[34m\u001B[1mval: \u001B[0mScanning 'datasets/nuimages10/server/labels.cache' images and labels... 16445 found, 0 missing, 1661 empty, 0 corrupted: 100% 16445/16445 [00:00<?, ?it/s]\n",
      "                               Class      Images      Labels           P           R      mAP@.5  mAP@.5:.95: 100% 16445/16445 [16:58<00:00, 16.15it/s]\n",
      "                                 all       16445      133465       0.814       0.708       0.773       0.531\n",
      "                          pedestrian       16445       32185       0.876       0.762       0.843       0.526\n",
      "                             barrier       16445       18433       0.831       0.746       0.811       0.537\n",
      "                        traffic_cone       16445       18587       0.878       0.813       0.881       0.537\n",
      "                             bicycle       16445        3352       0.776       0.776       0.808       0.596\n",
      "                                 bus       16445        1885       0.794       0.694       0.766       0.606\n",
      "                                 car       16445       47279       0.873       0.858       0.916        0.69\n",
      "                construction_vehicle       16445        1303       0.758       0.629       0.676        0.38\n",
      "                          motorcycle       16445        3097       0.862       0.844       0.893       0.641\n",
      "                             trailer       16445         486         0.7       0.261       0.376       0.226\n",
      "                               truck       16445        6858       0.786       0.692       0.761       0.574\n",
      "Speed: 10.9/1.3/12.2 ms inference/NMS/total per 1280x1280 image at batch-size 1\n",
      "Results saved to datasets/nuimages10/yolov7-w6-bsz1/exp5\n",
      "\n",
      "--------------------------------------------------------\n",
      "\n",
      "Mean inference speed (5 trials, NMS excluded): 92 FPS\n"
     ]
    }
   ],
   "source": [
    "# YOLOv7-W6\n",
    "weights = 'weights/trained/nuimages10-yolov7-w6-fedoptm.pt'\n",
    "saving_path = 'datasets/nuimages10/yolov7-w6-bsz1'\n",
    "img_size = 1280\n",
    "\n",
    "run(data, bsz, trials, weights, saving_path, img_size, conf_thres, iou_thres)"
   ],
   "id": "-ctSXxTVeD7a"
  },
  {
   "cell_type": "markdown",
   "metadata": {
    "id": "RwUTTVCXbVz9"
   },
   "source": [
    "### nuImages-23"
   ],
   "id": "RwUTTVCXbVz9"
  },
  {
   "cell_type": "code",
   "execution_count": 17,
   "metadata": {
    "id": "QfFUI506Wneg"
   },
   "outputs": [],
   "source": [
    "# untar nuImages-23 validation set\n",
    "!tar -xf datasets/nuimages23/server.tar -C datasets/nuimages23"
   ],
   "id": "QfFUI506Wneg"
  },
  {
   "cell_type": "code",
   "execution_count": 18,
   "metadata": {
    "id": "BNDqU9gta8Mx"
   },
   "outputs": [],
   "source": [
    "# parameters\n",
    "data = 'data/nuimages23.yaml'  # *.data path\n",
    "bsz = 1                        # batch size\n",
    "trials = 5                     # number of inferences to run\n",
    "conf_thres = 0.001             # object confidence threshold\n",
    "iou_thres = 0.65               # IOU threshold for NMS"
   ],
   "id": "BNDqU9gta8Mx"
  },
  {
   "cell_type": "code",
   "source": [
    "# YOLOv7-tiny\n",
    "weights = 'weights/trained/nuimages23-yolov7-tiny-fedoptm.pt'\n",
    "saving_path = 'datasets/nuimages23/yolov7-tiny-bsz1'\n",
    "img_size = 640\n",
    "\n",
    "run(data, bsz, trials, weights, saving_path, img_size, conf_thres, iou_thres)"
   ],
   "metadata": {
    "id": "nR0MRn7jmjgB",
    "colab": {
     "base_uri": "https://localhost:8080/"
    },
    "outputId": "5bcf503e-8e8d-4f91-a377-5e1a9f4aefa9"
   },
   "id": "nR0MRn7jmjgB",
   "execution_count": 19,
   "outputs": [
    {
     "output_type": "stream",
     "name": "stdout",
     "text": [
      "Namespace(saving_path='datasets/nuimages23/yolov7-tiny-bsz1', kround=4, weights=['weights/trained/nuimages23-yolov7-tiny-fedoptm.pt'], data='data/nuimages23.yaml', batch_size=1, img_size=640, conf_thres=0.001, iou_thres=0.65, task='val', device='0', single_cls=False, augment=False, verbose=False, save_txt=False, save_hybrid=False, save_conf=False, save_json=False, project='datasets/nuimages23/yolov7-tiny-bsz1', name='exp', exist_ok=False, no_trace=False, v5_metric=False)\n",
      "YOLOR 🚀 2024-3-20 torch 2.2.1+cu121 CUDA:0 (Tesla V100-SXM2-16GB, 16151.125MB)\n",
      "\n",
      "Fusing layers... \n",
      "Model Summary: 200 layers, 6065980 parameters, 6065980 gradients\n",
      " Convert model to Traced-model... \n",
      "/usr/local/lib/python3.10/dist-packages/torch/nn/modules/module.py:836: UserWarning: The .grad attribute of a Tensor that is not a leaf Tensor is being accessed. Its .grad attribute won't be populated during autograd.backward(). If you indeed want the .grad field to be populated for a non-leaf Tensor, use .retain_grad() on the non-leaf Tensor. If you access the non-leaf Tensor by mistake, make sure you access the leaf Tensor instead. See github.com/pytorch/pytorch/pull/30531 for more informations. (Triggered internally at aten/src/ATen/core/TensorBody.h:489.)\n",
      "  if param.grad is not None:\n",
      " traced_script_module saved! \n",
      " model is traced! \n",
      "\n",
      "/usr/local/lib/python3.10/dist-packages/torch/functional.py:507: UserWarning: torch.meshgrid: in an upcoming release, it will be required to pass the indexing argument. (Triggered internally at ../aten/src/ATen/native/TensorShape.cpp:3549.)\n",
      "  return _VF.meshgrid(tensors, **kwargs)  # type: ignore[attr-defined]\n",
      "\u001B[34m\u001B[1mval: \u001B[0mScanning 'datasets/nuimages23/server/labels.cache' images and labels... 16445 found, 0 missing, 1561 empty, 0 corrupted: 100% 16445/16445 [00:00<?, ?it/s]\n",
      "                               Class      Images      Labels           P           R      mAP@.5  mAP@.5:.95: 100% 16445/16445 [11:01<00:00, 24.87it/s]\n",
      "                                 all       16445      136073        0.67       0.309       0.327       0.181\n",
      "                              animal       16445          82           1           0       0.025     0.00433\n",
      "              human.pedestrian.adult       16445       28721        0.66       0.534       0.579       0.279\n",
      "              human.pedestrian.child       16445         251       0.185     0.00398     0.00721     0.00295\n",
      "human.pedestrian.construction_worker       16445        3117       0.598       0.335       0.359       0.151\n",
      "  human.pedestrian.personal_mobility       16445         453        0.42       0.422       0.323       0.104\n",
      "     human.pedestrian.police_officer       16445          96       0.414        0.11       0.155      0.0953\n",
      "           human.pedestrian.stroller       16445          70       0.695      0.0286      0.0737      0.0319\n",
      "         human.pedestrian.wheelchair       16445           2           1           0           0           0\n",
      "              movable_object.barrier       16445       18433       0.688       0.616       0.653       0.374\n",
      "               movable_object.debris       16445         710       0.398      0.0904      0.0997      0.0478\n",
      "    movable_object.pushable_pullable       16445         645       0.506       0.288       0.273        0.16\n",
      "          movable_object.trafficcone       16445       18587       0.689       0.647       0.682       0.332\n",
      "          static_object.bicycle_rack       16445         603       0.554       0.469       0.462       0.241\n",
      "                     vehicle.bicycle       16445        3352       0.675       0.593       0.631       0.376\n",
      "                   vehicle.bus.bendy       16445          62           1           0     0.00573     0.00299\n",
      "                   vehicle.bus.rigid       16445        1823       0.678       0.491        0.54       0.384\n",
      "                         vehicle.car       16445       47279       0.719       0.743       0.778       0.498\n",
      "                vehicle.construction       16445        1303       0.601       0.441       0.455       0.211\n",
      "         vehicle.emergency.ambulance       16445           8           1           0           0           0\n",
      "            vehicle.emergency.police       16445          35           1           0    0.000694    0.000645\n",
      "                  vehicle.motorcycle       16445        3097       0.697       0.694       0.729       0.439\n",
      "                     vehicle.trailer       16445         486       0.604      0.0973       0.136      0.0701\n",
      "                       vehicle.truck       16445        6858       0.628       0.507       0.542       0.352\n",
      "Speed: 5.1/1.3/6.4 ms inference/NMS/total per 640x640 image at batch-size 1\n",
      "Results saved to datasets/nuimages23/yolov7-tiny-bsz1/exp5\n",
      "\n",
      "--------------------------------------------------------\n",
      "\n",
      "Mean inference speed (5 trials, NMS excluded): 198 FPS\n"
     ]
    }
   ]
  },
  {
   "cell_type": "code",
   "execution_count": 20,
   "metadata": {
    "id": "G26b_zDlXX4r",
    "colab": {
     "base_uri": "https://localhost:8080/"
    },
    "outputId": "6a131bb8-f26f-4ba6-b8c2-2a048d10d2af"
   },
   "outputs": [
    {
     "output_type": "stream",
     "name": "stdout",
     "text": [
      "Namespace(saving_path='datasets/nuimages23/yolov7-bsz1', kround=4, weights=['weights/trained/nuimages23-yolov7-fedoptm.pt'], data='data/nuimages23.yaml', batch_size=1, img_size=640, conf_thres=0.001, iou_thres=0.65, task='val', device='0', single_cls=False, augment=False, verbose=False, save_txt=False, save_hybrid=False, save_conf=False, save_json=False, project='datasets/nuimages23/yolov7-bsz1', name='exp', exist_ok=False, no_trace=False, v5_metric=False)\n",
      "YOLOR 🚀 2024-3-20 torch 2.2.1+cu121 CUDA:0 (Tesla V100-SXM2-16GB, 16151.125MB)\n",
      "\n",
      "Fusing layers... \n",
      "RepConv.fuse_repvgg_block\n",
      "RepConv.fuse_repvgg_block\n",
      "RepConv.fuse_repvgg_block\n",
      "Model Summary: 306 layers, 36598396 parameters, 36598396 gradients\n",
      " Convert model to Traced-model... \n",
      "/usr/local/lib/python3.10/dist-packages/torch/nn/modules/module.py:836: UserWarning: The .grad attribute of a Tensor that is not a leaf Tensor is being accessed. Its .grad attribute won't be populated during autograd.backward(). If you indeed want the .grad field to be populated for a non-leaf Tensor, use .retain_grad() on the non-leaf Tensor. If you access the non-leaf Tensor by mistake, make sure you access the leaf Tensor instead. See github.com/pytorch/pytorch/pull/30531 for more informations. (Triggered internally at aten/src/ATen/core/TensorBody.h:489.)\n",
      "  if param.grad is not None:\n",
      " traced_script_module saved! \n",
      " model is traced! \n",
      "\n",
      "/usr/local/lib/python3.10/dist-packages/torch/functional.py:507: UserWarning: torch.meshgrid: in an upcoming release, it will be required to pass the indexing argument. (Triggered internally at ../aten/src/ATen/native/TensorShape.cpp:3549.)\n",
      "  return _VF.meshgrid(tensors, **kwargs)  # type: ignore[attr-defined]\n",
      "\u001B[34m\u001B[1mval: \u001B[0mScanning 'datasets/nuimages23/server/labels.cache' images and labels... 16445 found, 0 missing, 1561 empty, 0 corrupted: 100% 16445/16445 [00:00<?, ?it/s]\n",
      "                               Class      Images      Labels           P           R      mAP@.5  mAP@.5:.95: 100% 16445/16445 [11:40<00:00, 23.47it/s]\n",
      "                                 all       16445      136073       0.693       0.445       0.454       0.285\n",
      "                              animal       16445          82       0.497       0.183       0.152      0.0669\n",
      "              human.pedestrian.adult       16445       28721        0.77       0.719       0.761        0.44\n",
      "              human.pedestrian.child       16445         251       0.486       0.104       0.105      0.0545\n",
      "human.pedestrian.construction_worker       16445        3117       0.743       0.568        0.61       0.321\n",
      "  human.pedestrian.personal_mobility       16445         453       0.477       0.629       0.501       0.225\n",
      "     human.pedestrian.police_officer       16445          96       0.509       0.281       0.247       0.167\n",
      "           human.pedestrian.stroller       16445          70       0.729       0.269       0.358       0.243\n",
      "         human.pedestrian.wheelchair       16445           2           1           0           0           0\n",
      "              movable_object.barrier       16445       18433       0.765       0.726       0.764       0.488\n",
      "               movable_object.debris       16445         710       0.515       0.141       0.171      0.0968\n",
      "    movable_object.pushable_pullable       16445         645       0.557       0.482       0.428       0.266\n",
      "          movable_object.trafficcone       16445       18587       0.807       0.804       0.832       0.474\n",
      "          static_object.bicycle_rack       16445         603       0.572       0.657       0.574       0.338\n",
      "                     vehicle.bicycle       16445        3352       0.704       0.748        0.76       0.522\n",
      "                   vehicle.bus.bendy       16445          62       0.392      0.0484      0.0618      0.0419\n",
      "                   vehicle.bus.rigid       16445        1823       0.738       0.659       0.708       0.538\n",
      "                         vehicle.car       16445       47279        0.81       0.846       0.881       0.635\n",
      "                vehicle.construction       16445        1303       0.729       0.614       0.635        0.34\n",
      "         vehicle.emergency.ambulance       16445           8           1           0           0           0\n",
      "            vehicle.emergency.police       16445          35           1           0    0.000764    0.000707\n",
      "                  vehicle.motorcycle       16445        3097       0.766       0.837       0.857       0.584\n",
      "                     vehicle.trailer       16445         486        0.66       0.257       0.332       0.196\n",
      "                       vehicle.truck       16445        6858       0.724       0.665       0.707       0.512\n",
      "Speed: 7.4/1.3/8.6 ms inference/NMS/total per 640x640 image at batch-size 1\n",
      "Results saved to datasets/nuimages23/yolov7-bsz1/exp5\n",
      "\n",
      "--------------------------------------------------------\n",
      "\n",
      "Mean inference speed (5 trials, NMS excluded): 136 FPS\n"
     ]
    }
   ],
   "source": [
    "# YOLOv7\n",
    "weights = 'weights/trained/nuimages23-yolov7-fedoptm.pt'\n",
    "saving_path = 'datasets/nuimages23/yolov7-bsz1'\n",
    "img_size = 640\n",
    "\n",
    "run(data, bsz, trials, weights, saving_path, img_size, conf_thres, iou_thres)"
   ],
   "id": "G26b_zDlXX4r"
  },
  {
   "cell_type": "code",
   "execution_count": 21,
   "metadata": {
    "id": "iiQ48vXGXcme",
    "colab": {
     "base_uri": "https://localhost:8080/"
    },
    "outputId": "9d2ee962-f570-4a2a-c615-b3d56769b0ed"
   },
   "outputs": [
    {
     "output_type": "stream",
     "name": "stdout",
     "text": [
      "Namespace(saving_path='datasets/nuimages23/yolov7x-bsz1', kround=4, weights=['weights/trained/nuimages23-yolov7x-fedoptm.pt'], data='data/nuimages23.yaml', batch_size=1, img_size=640, conf_thres=0.001, iou_thres=0.65, task='val', device='0', single_cls=False, augment=False, verbose=False, save_txt=False, save_hybrid=False, save_conf=False, save_json=False, project='datasets/nuimages23/yolov7x-bsz1', name='exp', exist_ok=False, no_trace=False, v5_metric=False)\n",
      "YOLOR 🚀 2024-3-20 torch 2.2.1+cu121 CUDA:0 (Tesla V100-SXM2-16GB, 16151.125MB)\n",
      "\n",
      "Fusing layers... \n",
      "Model Summary: 354 layers, 70928188 parameters, 70928188 gradients\n",
      " Convert model to Traced-model... \n",
      "/usr/local/lib/python3.10/dist-packages/torch/nn/modules/module.py:836: UserWarning: The .grad attribute of a Tensor that is not a leaf Tensor is being accessed. Its .grad attribute won't be populated during autograd.backward(). If you indeed want the .grad field to be populated for a non-leaf Tensor, use .retain_grad() on the non-leaf Tensor. If you access the non-leaf Tensor by mistake, make sure you access the leaf Tensor instead. See github.com/pytorch/pytorch/pull/30531 for more informations. (Triggered internally at aten/src/ATen/core/TensorBody.h:489.)\n",
      "  if param.grad is not None:\n",
      " traced_script_module saved! \n",
      " model is traced! \n",
      "\n",
      "/usr/local/lib/python3.10/dist-packages/torch/functional.py:507: UserWarning: torch.meshgrid: in an upcoming release, it will be required to pass the indexing argument. (Triggered internally at ../aten/src/ATen/native/TensorShape.cpp:3549.)\n",
      "  return _VF.meshgrid(tensors, **kwargs)  # type: ignore[attr-defined]\n",
      "\u001B[34m\u001B[1mval: \u001B[0mScanning 'datasets/nuimages23/server/labels.cache' images and labels... 16445 found, 0 missing, 1561 empty, 0 corrupted: 100% 16445/16445 [00:00<?, ?it/s]\n",
      "                               Class      Images      Labels           P           R      mAP@.5  mAP@.5:.95: 100% 16445/16445 [12:08<00:00, 22.57it/s]\n",
      "                                 all       16445      136073       0.705       0.448       0.465       0.296\n",
      "                              animal       16445          82       0.522      0.0854       0.137      0.0704\n",
      "              human.pedestrian.adult       16445       28721       0.799       0.731       0.776        0.46\n",
      "              human.pedestrian.child       16445         251       0.462      0.0876       0.114      0.0621\n",
      "human.pedestrian.construction_worker       16445        3117       0.755       0.593       0.636       0.345\n",
      "  human.pedestrian.personal_mobility       16445         453       0.522       0.605       0.506       0.236\n",
      "     human.pedestrian.police_officer       16445          96       0.444       0.229       0.253       0.161\n",
      "           human.pedestrian.stroller       16445          70       0.692       0.386        0.39       0.266\n",
      "         human.pedestrian.wheelchair       16445           2           1           0     0.00133    0.000133\n",
      "              movable_object.barrier       16445       18433       0.785       0.734       0.776         0.5\n",
      "               movable_object.debris       16445         710       0.472       0.162       0.166      0.0915\n",
      "    movable_object.pushable_pullable       16445         645       0.554       0.489       0.439       0.279\n",
      "          movable_object.trafficcone       16445       18587       0.838       0.801       0.845       0.487\n",
      "          static_object.bicycle_rack       16445         603       0.568       0.655       0.577       0.345\n",
      "                     vehicle.bicycle       16445        3352       0.733       0.757       0.771       0.537\n",
      "                   vehicle.bus.bendy       16445          62       0.573      0.0484       0.087      0.0579\n",
      "                   vehicle.bus.rigid       16445        1823       0.769       0.669       0.728       0.559\n",
      "                         vehicle.car       16445       47279        0.83       0.848       0.886       0.645\n",
      "                vehicle.construction       16445        1303       0.712       0.652       0.656       0.358\n",
      "         vehicle.emergency.ambulance       16445           8           1           0           0           0\n",
      "            vehicle.emergency.police       16445          35           1           0    0.000419    0.000325\n",
      "                  vehicle.motorcycle       16445        3097       0.786       0.843       0.867       0.599\n",
      "                     vehicle.trailer       16445         486       0.646       0.272        0.36       0.217\n",
      "                       vehicle.truck       16445        6858        0.75       0.663       0.719       0.522\n",
      "Speed: 8.9/1.2/10.2 ms inference/NMS/total per 640x640 image at batch-size 1\n",
      "Results saved to datasets/nuimages23/yolov7x-bsz1/exp5\n",
      "\n",
      "--------------------------------------------------------\n",
      "\n",
      "Mean inference speed (5 trials, NMS excluded): 112 FPS\n"
     ]
    }
   ],
   "source": [
    "# YOLOv7-X\n",
    "weights = 'weights/trained/nuimages23-yolov7x-fedoptm.pt'\n",
    "saving_path = 'datasets/nuimages23/yolov7x-bsz1'\n",
    "img_size = 640\n",
    "\n",
    "run(data, bsz, trials, weights, saving_path, img_size, conf_thres, iou_thres)"
   ],
   "id": "iiQ48vXGXcme"
  },
  {
   "cell_type": "code",
   "execution_count": 22,
   "metadata": {
    "id": "GnKdsdMteVu7",
    "colab": {
     "base_uri": "https://localhost:8080/"
    },
    "outputId": "e2fc6c7b-a673-4cc9-d601-527f26b5ad92"
   },
   "outputs": [
    {
     "output_type": "stream",
     "name": "stdout",
     "text": [
      "Namespace(saving_path='datasets/nuimages23/yolov7-w6-bsz1', kround=4, weights=['weights/trained/nuimages23-yolov7-w6-fedoptm.pt'], data='data/nuimages23.yaml', batch_size=1, img_size=1280, conf_thres=0.001, iou_thres=0.65, task='val', device='0', single_cls=False, augment=False, verbose=False, save_txt=False, save_hybrid=False, save_conf=False, save_json=False, project='datasets/nuimages23/yolov7-w6-bsz1', name='exp', exist_ok=False, no_trace=False, v5_metric=False)\n",
      "YOLOR 🚀 2024-3-20 torch 2.2.1+cu121 CUDA:0 (Tesla V100-SXM2-16GB, 16151.125MB)\n",
      "\n",
      "Fusing layers... \n",
      "Model Summary: 343 layers, 69955856 parameters, 69955856 gradients\n",
      " Convert model to Traced-model... \n",
      "/usr/local/lib/python3.10/dist-packages/torch/nn/modules/module.py:836: UserWarning: The .grad attribute of a Tensor that is not a leaf Tensor is being accessed. Its .grad attribute won't be populated during autograd.backward(). If you indeed want the .grad field to be populated for a non-leaf Tensor, use .retain_grad() on the non-leaf Tensor. If you access the non-leaf Tensor by mistake, make sure you access the leaf Tensor instead. See github.com/pytorch/pytorch/pull/30531 for more informations. (Triggered internally at aten/src/ATen/core/TensorBody.h:489.)\n",
      "  if param.grad is not None:\n",
      " traced_script_module saved! \n",
      " model is traced! \n",
      "\n",
      "/usr/local/lib/python3.10/dist-packages/torch/functional.py:507: UserWarning: torch.meshgrid: in an upcoming release, it will be required to pass the indexing argument. (Triggered internally at ../aten/src/ATen/native/TensorShape.cpp:3549.)\n",
      "  return _VF.meshgrid(tensors, **kwargs)  # type: ignore[attr-defined]\n",
      "\u001B[34m\u001B[1mval: \u001B[0mScanning 'datasets/nuimages23/server/labels.cache' images and labels... 16445 found, 0 missing, 1561 empty, 0 corrupted: 100% 16445/16445 [00:00<?, ?it/s]\n",
      "                               Class      Images      Labels           P           R      mAP@.5  mAP@.5:.95: 100% 16445/16445 [17:07<00:00, 16.01it/s]\n",
      "                                 all       16445      136073       0.692       0.485        0.49       0.324\n",
      "                              animal       16445          82       0.535       0.183        0.17      0.0974\n",
      "              human.pedestrian.adult       16445       28721        0.79       0.802       0.832       0.523\n",
      "              human.pedestrian.child       16445         251       0.386       0.112      0.0994      0.0537\n",
      "human.pedestrian.construction_worker       16445        3117       0.749       0.681       0.712       0.415\n",
      "  human.pedestrian.personal_mobility       16445         453       0.557       0.671       0.577       0.304\n",
      "     human.pedestrian.police_officer       16445          96       0.549       0.229       0.201       0.149\n",
      "           human.pedestrian.stroller       16445          70       0.669       0.386       0.443       0.285\n",
      "         human.pedestrian.wheelchair       16445           2           1           0           0           0\n",
      "              movable_object.barrier       16445       18433       0.764       0.786        0.81       0.536\n",
      "               movable_object.debris       16445         710       0.457       0.191       0.186         0.1\n",
      "    movable_object.pushable_pullable       16445         645       0.539       0.543        0.48       0.329\n",
      "          movable_object.trafficcone       16445       18587       0.829       0.851       0.881       0.539\n",
      "          static_object.bicycle_rack       16445         603        0.59       0.615       0.584       0.353\n",
      "                     vehicle.bicycle       16445        3352       0.714       0.808         0.8       0.591\n",
      "                   vehicle.bus.bendy       16445          62       0.449      0.0658       0.117      0.0611\n",
      "                   vehicle.bus.rigid       16445        1823       0.696       0.737       0.762       0.609\n",
      "                         vehicle.car       16445       47279       0.819       0.892       0.916       0.692\n",
      "                vehicle.construction       16445        1303        0.69       0.685        0.68       0.382\n",
      "         vehicle.emergency.ambulance       16445           8           1           0           0           0\n",
      "            vehicle.emergency.police       16445          35           1           0     0.00215     0.00205\n",
      "                  vehicle.motorcycle       16445        3097       0.812       0.872       0.894       0.645\n",
      "                     vehicle.trailer       16445         486       0.612       0.313       0.362        0.22\n",
      "                       vehicle.truck       16445        6858       0.717       0.735       0.761       0.573\n",
      "Speed: 10.9/1.3/12.2 ms inference/NMS/total per 1280x1280 image at batch-size 1\n",
      "Results saved to datasets/nuimages23/yolov7-w6-bsz1/exp5\n",
      "\n",
      "--------------------------------------------------------\n",
      "\n",
      "Mean inference speed (5 trials, NMS excluded): 92 FPS\n"
     ]
    }
   ],
   "source": [
    "# YOLOv7-W6\n",
    "weights = 'weights/trained/nuimages23-yolov7-w6-fedoptm.pt'\n",
    "saving_path = 'datasets/nuimages23/yolov7-w6-bsz1'\n",
    "img_size = 1280\n",
    "\n",
    "run(data, bsz, trials, weights, saving_path, img_size, conf_thres, iou_thres)"
   ],
   "id": "GnKdsdMteVu7"
  },
  {
   "cell_type": "code",
   "execution_count": null,
   "metadata": {
    "id": "o3-lE-U56-R6"
   },
   "outputs": [],
   "source": [],
   "id": "o3-lE-U56-R6"
  }
 ],
 "metadata": {
  "accelerator": "GPU",
  "colab": {
   "gpuType": "V100",
   "provenance": []
  },
  "kernelspec": {
   "display_name": "Python 3",
   "name": "python3"
  },
  "language_info": {
   "codemirror_mode": {
    "name": "ipython",
    "version": 2
   },
   "file_extension": ".py",
   "mimetype": "text/x-python",
   "name": "python",
   "nbconvert_exporter": "python",
   "pygments_lexer": "ipython2",
   "version": "2.7.6"
  }
 },
 "nbformat": 4,
 "nbformat_minor": 5
}
